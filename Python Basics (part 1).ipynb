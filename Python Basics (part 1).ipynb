{
 "cells": [
  {
   "cell_type": "markdown",
   "id": "5eb5e31a",
   "metadata": {},
   "source": [
    "Command mode shortcuts\n",
    "\n",
    "    •\tEsc: To go into command mode\n",
    "    •\tEnter: To go back to edit mode\n",
    "    •\tM: To convert a cell to a markdown cell\n",
    "    •\tY: To convert a cell back to a code cell\n",
    "    •\tA: To insert a new cell above\n",
    "    •\tB: To insert a new cell below\n",
    "    •\tD + D: To delete cell\n",
    "    •\tZ: Undo the last operation\n",
    "    •\tF: To find and replace on your code\n",
    "    •\tShift + Up/Down: To select multiple cells\n",
    "    •\tSpace: Scroll notebook downwards\n",
    "    •\tShift + Space: Scroll notebook upwards\n"
   ]
  },
  {
   "cell_type": "markdown",
   "id": "a5489893",
   "metadata": {},
   "source": [
    "Edit mode shortcuts\n",
    "\n",
    "    •\tShift + Enter: To execute the code in the current cell and go to the next cell\n",
    "    •\tAlt + Enter: To execute the code in the current cell and insert new cell below\n",
    "    •\tShift + Tab: To get a brief documentation of the object that you have just typed in the coding cell\n",
    "    •\tCtrl + Shift + -: To split the cell at the cursor\n",
    "    •\tShift + M: To merge selected cells\n"
   ]
  },
  {
   "cell_type": "code",
   "execution_count": 1,
   "id": "7b943c4b",
   "metadata": {},
   "outputs": [
    {
     "name": "stdout",
     "output_type": "stream",
     "text": [
      "bandra,mumbai\n"
     ]
    }
   ],
   "source": [
    "s = 'bmaunmdbraai'\n",
    "print(s[::2].rstrip('#')+','+s[1::2].rstrip('#'))"
   ]
  },
  {
   "cell_type": "code",
   "execution_count": 2,
   "id": "0c3e0aee",
   "metadata": {},
   "outputs": [
    {
     "name": "stdout",
     "output_type": "stream",
     "text": [
      "['Hello', 'World!']\n"
     ]
    }
   ],
   "source": [
    "# Split\n",
    "a = \"Hello World!\"\n",
    "print(a.split(\" \"))"
   ]
  },
  {
   "cell_type": "code",
   "execution_count": 3,
   "id": "400d4061",
   "metadata": {},
   "outputs": [
    {
     "name": "stdout",
     "output_type": "stream",
     "text": [
      "h-e-l-l-o\n"
     ]
    }
   ],
   "source": [
    "# join\n",
    "str = '-'.join('hello')\n",
    "print(str)"
   ]
  },
  {
   "cell_type": "code",
   "execution_count": 4,
   "id": "a99b6066",
   "metadata": {},
   "outputs": [
    {
     "data": {
      "text/plain": [
       "'e'"
      ]
     },
     "execution_count": 4,
     "metadata": {},
     "output_type": "execute_result"
    }
   ],
   "source": [
    "x = 'len'\n",
    "x[len(x * 2) - 5]"
   ]
  },
  {
   "cell_type": "code",
   "execution_count": 5,
   "id": "a9387a5f",
   "metadata": {},
   "outputs": [
    {
     "data": {
      "text/plain": [
       "'lenlen'"
      ]
     },
     "execution_count": 5,
     "metadata": {},
     "output_type": "execute_result"
    }
   ],
   "source": [
    "x * 2"
   ]
  },
  {
   "cell_type": "code",
   "execution_count": 6,
   "id": "0e1eab0e",
   "metadata": {},
   "outputs": [
    {
     "name": "stdout",
     "output_type": "stream",
     "text": [
      "7\n"
     ]
    }
   ],
   "source": [
    "# find\n",
    "txt = \"Hello, welcome to my world.\"\n",
    "\n",
    "x = txt.find(\"welcome\")\n",
    "\n",
    "print(x)"
   ]
  },
  {
   "cell_type": "code",
   "execution_count": 7,
   "id": "3aa4980a",
   "metadata": {},
   "outputs": [
    {
     "name": "stdout",
     "output_type": "stream",
     "text": [
      "1.0\n",
      "3.5\n",
      "-5.0\n",
      "10.0\n"
     ]
    }
   ],
   "source": [
    "# division\n",
    "print(5/5)\n",
    "print(7/2)\n",
    "print(-10/2)\n",
    "print(20.0/2)"
   ]
  },
  {
   "cell_type": "code",
   "execution_count": 8,
   "id": "34fc8384",
   "metadata": {},
   "outputs": [
    {
     "name": "stdout",
     "output_type": "stream",
     "text": [
      "3\n",
      "-3\n",
      "2.0\n",
      "-3.0\n"
     ]
    }
   ],
   "source": [
    "# floor division\n",
    "print(10//3)\n",
    "print (-5//2)\n",
    "print (5.0//2)\n",
    "print (-5.0//2)"
   ]
  },
  {
   "cell_type": "code",
   "execution_count": 9,
   "id": "c29a7905",
   "metadata": {},
   "outputs": [
    {
     "name": "stdout",
     "output_type": "stream",
     "text": [
      "13\n",
      "5\n",
      "36\n",
      "1\n",
      "6561\n"
     ]
    }
   ],
   "source": [
    "# Examples of Arithmetic Operator\n",
    "a = 9\n",
    "b = 4\n",
    " \n",
    "# Addition of numbers\n",
    "add = a + b\n",
    " \n",
    "# Subtraction of numbers\n",
    "sub = a - b\n",
    " \n",
    "# Multiplication of number\n",
    "mul = a * b\n",
    " \n",
    "# Modulo of both number\n",
    "mod = a % b\n",
    " \n",
    "# Power\n",
    "p = a ** b\n",
    " \n",
    "# print results\n",
    "print(add)\n",
    "print(sub)\n",
    "print(mul)\n",
    "print(mod)\n",
    "print(p)"
   ]
  },
  {
   "cell_type": "code",
   "execution_count": 10,
   "id": "8b221ac0",
   "metadata": {},
   "outputs": [
    {
     "name": "stdout",
     "output_type": "stream",
     "text": [
      "False\n",
      "True\n",
      "False\n",
      "True\n",
      "False\n",
      "True\n"
     ]
    }
   ],
   "source": [
    "# Examples of Relational Operators\n",
    "a = 13\n",
    "b = 33\n",
    " \n",
    "# a > b is False\n",
    "print(a > b)\n",
    " \n",
    "# a < b is True\n",
    "print(a < b)\n",
    " \n",
    "# a == b is False\n",
    "print(a == b)\n",
    " \n",
    "# a != b is True\n",
    "print(a != b)\n",
    " \n",
    "# a >= b is False\n",
    "print(a >= b)\n",
    " \n",
    "# a <= b is True\n",
    "print(a <= b)"
   ]
  },
  {
   "cell_type": "code",
   "execution_count": 11,
   "id": "7a3c9908",
   "metadata": {},
   "outputs": [
    {
     "name": "stdout",
     "output_type": "stream",
     "text": [
      "False\n",
      "True\n",
      "False\n"
     ]
    }
   ],
   "source": [
    "# Examples of Logical Operator\n",
    "a = True\n",
    "b = False\n",
    " \n",
    "# Print a and b is False\n",
    "print(a and b)\n",
    " \n",
    "# Print a or b is True\n",
    "print(a or b)\n",
    " \n",
    "# Print not a is False\n",
    "print(not a)"
   ]
  },
  {
   "cell_type": "code",
   "execution_count": 12,
   "id": "93236fa6",
   "metadata": {},
   "outputs": [
    {
     "name": "stdout",
     "output_type": "stream",
     "text": [
      "10\n",
      "20\n",
      "10\n",
      "100\n",
      "102400\n"
     ]
    }
   ],
   "source": [
    "# Examples of Assignment Operators\n",
    "a = 10\n",
    " \n",
    "# Assign value\n",
    "b = a\n",
    "print(b)\n",
    " \n",
    "# Add and assign value\n",
    "b += a\n",
    "print(b)\n",
    " \n",
    "# Subtract and assign value\n",
    "b -= a\n",
    "print(b)\n",
    " \n",
    "# multiply and assign\n",
    "b *= a\n",
    "print(b)\n",
    " \n",
    "# bitwise lishift operator\n",
    "b <<= a\n",
    "print(b)"
   ]
  },
  {
   "cell_type": "code",
   "execution_count": 13,
   "id": "09dd1280",
   "metadata": {},
   "outputs": [
    {
     "name": "stdout",
     "output_type": "stream",
     "text": [
      "True\n",
      "True\n"
     ]
    }
   ],
   "source": [
    "# Identity Operators in Python\n",
    "a = 10\n",
    "b = 20\n",
    "c = a\n",
    " \n",
    "print(a is not b)\n",
    "print(a is c)"
   ]
  },
  {
   "cell_type": "code",
   "execution_count": 14,
   "id": "8d91f04d",
   "metadata": {},
   "outputs": [
    {
     "name": "stdout",
     "output_type": "stream",
     "text": [
      "x is NOT present in given list\n",
      "y is present in given list\n"
     ]
    }
   ],
   "source": [
    "# Membership Operators in Python\n",
    "# Python program to illustrate\n",
    "# not 'in' operator\n",
    "x = 24\n",
    "y = 20\n",
    "list1 = [10, 20, 30, 40, 50]\n",
    " \n",
    "if (x not in list1):\n",
    "    print(\"x is NOT present in given list\")\n",
    "else:\n",
    "    print(\"x is present in given list\")\n",
    " \n",
    "if (y in list1):\n",
    "    print(\"y is present in given list\")\n",
    "else:\n",
    "    print(\"y is NOT present in given list\")"
   ]
  },
  {
   "cell_type": "code",
   "execution_count": 15,
   "id": "f88a80a9",
   "metadata": {},
   "outputs": [
    {
     "name": "stdout",
     "output_type": "stream",
     "text": [
      "10\n"
     ]
    }
   ],
   "source": [
    "# Ternary Operator in Python\n",
    "# Program to demonstrate conditional operator\n",
    "a, b = 10, 20\n",
    " \n",
    "# Copy value of a in min if a < b else copy b\n",
    "minimum = a if a < b else b\n",
    " \n",
    "print(minimum)"
   ]
  },
  {
   "cell_type": "code",
   "execution_count": 16,
   "id": "4c2f1d5a",
   "metadata": {},
   "outputs": [
    {
     "data": {
      "text/plain": [
       "11"
      ]
     },
     "execution_count": 16,
     "metadata": {},
     "output_type": "execute_result"
    }
   ],
   "source": [
    "# len\n",
    "string = 'demonstrate'\n",
    "len(string)"
   ]
  },
  {
   "cell_type": "code",
   "execution_count": 17,
   "id": "b4261df9",
   "metadata": {},
   "outputs": [
    {
     "data": {
      "text/plain": [
       "12"
      ]
     },
     "execution_count": 17,
     "metadata": {},
     "output_type": "execute_result"
    }
   ],
   "source": [
    "# count\n",
    "string.count('')"
   ]
  },
  {
   "cell_type": "code",
   "execution_count": 18,
   "id": "ad42ea0d",
   "metadata": {},
   "outputs": [
    {
     "data": {
      "text/plain": [
       "True"
      ]
     },
     "execution_count": 18,
     "metadata": {},
     "output_type": "execute_result"
    }
   ],
   "source": [
    "#startswith\n",
    "string = 'if this is a nice evening'\n",
    "string.startswith('if')"
   ]
  },
  {
   "cell_type": "code",
   "execution_count": 19,
   "id": "74d965a3",
   "metadata": {},
   "outputs": [
    {
     "data": {
      "text/plain": [
       "'this '"
      ]
     },
     "execution_count": 19,
     "metadata": {},
     "output_type": "execute_result"
    }
   ],
   "source": [
    "string[3:8]"
   ]
  },
  {
   "cell_type": "code",
   "execution_count": 20,
   "id": "875d9656",
   "metadata": {},
   "outputs": [
    {
     "data": {
      "text/plain": [
       "'h'"
      ]
     },
     "execution_count": 20,
     "metadata": {},
     "output_type": "execute_result"
    }
   ],
   "source": [
    "# 5th character of the string\n",
    "string[4]"
   ]
  },
  {
   "cell_type": "markdown",
   "id": "e13441c0",
   "metadata": {},
   "source": [
    "<h1 style=\"color:Brown\"> Tuples </h1>\n",
    "\n",
    "- Tuples are an ordered sequnce of mixed data types.\n",
    "- Tuples are written as comma-separated  elements within parenthesis\n"
   ]
  },
  {
   "cell_type": "code",
   "execution_count": 21,
   "id": "184d0e5f",
   "metadata": {},
   "outputs": [
    {
     "data": {
      "text/plain": [
       "('disco', 12, 4.5)"
      ]
     },
     "execution_count": 21,
     "metadata": {},
     "output_type": "execute_result"
    }
   ],
   "source": [
    "t = (\"disco\", 12, 4.5)\n",
    "t"
   ]
  },
  {
   "cell_type": "code",
   "execution_count": 22,
   "id": "3c5f3367",
   "metadata": {},
   "outputs": [
    {
     "data": {
      "text/plain": [
       "tuple"
      ]
     },
     "execution_count": 22,
     "metadata": {},
     "output_type": "execute_result"
    }
   ],
   "source": [
    "type(t)"
   ]
  },
  {
   "cell_type": "code",
   "execution_count": 23,
   "id": "7e781063",
   "metadata": {},
   "outputs": [
    {
     "ename": "TypeError",
     "evalue": "'str' object does not support item assignment",
     "output_type": "error",
     "traceback": [
      "\u001b[1;31m---------------------------------------------------------------------------\u001b[0m",
      "\u001b[1;31mTypeError\u001b[0m                                 Traceback (most recent call last)",
      "Cell \u001b[1;32mIn[23], line 1\u001b[0m\n\u001b[1;32m----> 1\u001b[0m t[\u001b[38;5;241m0\u001b[39m][\u001b[38;5;241m3\u001b[39m]\u001b[38;5;241m=\u001b[39m \u001b[38;5;124m'\u001b[39m\u001b[38;5;124mt\u001b[39m\u001b[38;5;124m'\u001b[39m\n",
      "\u001b[1;31mTypeError\u001b[0m: 'str' object does not support item assignment"
     ]
    }
   ],
   "source": [
    "t[0][3]= 't'"
   ]
  },
  {
   "cell_type": "markdown",
   "id": "e9eb682a",
   "metadata": {},
   "source": [
    "<h3> Tuples can be defined is various ways </h3>"
   ]
  },
  {
   "cell_type": "markdown",
   "id": "e24e97d4",
   "metadata": {},
   "source": [
    "#### A tuple can be defined without using parenthesis "
   ]
  },
  {
   "cell_type": "code",
   "execution_count": 25,
   "id": "7b232ffb",
   "metadata": {},
   "outputs": [
    {
     "name": "stdout",
     "output_type": "stream",
     "text": [
      "(1, 2, 3, 4)\n"
     ]
    }
   ],
   "source": [
    "sample_tuple = 1,2,3,4\n",
    "\n",
    "print(sample_tuple)"
   ]
  },
  {
   "cell_type": "code",
   "execution_count": 26,
   "id": "dbe7538b",
   "metadata": {},
   "outputs": [
    {
     "data": {
      "text/plain": [
       "tuple"
      ]
     },
     "execution_count": 26,
     "metadata": {},
     "output_type": "execute_result"
    }
   ],
   "source": [
    "type(sample_tuple)"
   ]
  },
  {
   "cell_type": "markdown",
   "id": "5383cd3b",
   "metadata": {},
   "source": [
    "#### single value tuple"
   ]
  },
  {
   "cell_type": "code",
   "execution_count": 27,
   "id": "d31b4f26",
   "metadata": {},
   "outputs": [
    {
     "name": "stdout",
     "output_type": "stream",
     "text": [
      "(1,)\n"
     ]
    }
   ],
   "source": [
    "sample_tuple = 1,  \n",
    "print(sample_tuple)"
   ]
  },
  {
   "cell_type": "code",
   "execution_count": 28,
   "id": "9d5da84d",
   "metadata": {},
   "outputs": [
    {
     "name": "stdout",
     "output_type": "stream",
     "text": [
      "(1,)\n"
     ]
    }
   ],
   "source": [
    "sample_tuple = (1,)  \n",
    "print(sample_tuple)"
   ]
  },
  {
   "cell_type": "code",
   "execution_count": 29,
   "id": "c79583a0",
   "metadata": {},
   "outputs": [],
   "source": [
    "sample_tuple1 = 1   #This is not a tuple"
   ]
  },
  {
   "cell_type": "code",
   "execution_count": 30,
   "id": "1af1cd17",
   "metadata": {},
   "outputs": [
    {
     "data": {
      "text/plain": [
       "int"
      ]
     },
     "execution_count": 30,
     "metadata": {},
     "output_type": "execute_result"
    }
   ],
   "source": [
    "type(sample_tuple1)"
   ]
  },
  {
   "cell_type": "code",
   "execution_count": 31,
   "id": "fb65c4c8",
   "metadata": {},
   "outputs": [],
   "source": [
    "sample_tuple2 = (1) # This is not a tuple"
   ]
  },
  {
   "cell_type": "code",
   "execution_count": 32,
   "id": "42f21c99",
   "metadata": {},
   "outputs": [
    {
     "data": {
      "text/plain": [
       "int"
      ]
     },
     "execution_count": 32,
     "metadata": {},
     "output_type": "execute_result"
    }
   ],
   "source": [
    "type(sample_tuple2)"
   ]
  },
  {
   "cell_type": "markdown",
   "id": "fdda57eb",
   "metadata": {},
   "source": [
    "### Indexing in tuples"
   ]
  },
  {
   "cell_type": "code",
   "execution_count": 33,
   "id": "133becfb",
   "metadata": {},
   "outputs": [],
   "source": [
    "t = (\"Mumbai\", 84, \"Python\",)"
   ]
  },
  {
   "cell_type": "code",
   "execution_count": 34,
   "id": "e79a2e05",
   "metadata": {},
   "outputs": [
    {
     "data": {
      "text/plain": [
       "84"
      ]
     },
     "execution_count": 34,
     "metadata": {},
     "output_type": "execute_result"
    }
   ],
   "source": [
    "# gives the element at index location 1\n",
    "t[1]"
   ]
  },
  {
   "cell_type": "code",
   "execution_count": 35,
   "id": "2108d36d",
   "metadata": {},
   "outputs": [
    {
     "data": {
      "text/plain": [
       "'Python'"
      ]
     },
     "execution_count": 35,
     "metadata": {},
     "output_type": "execute_result"
    }
   ],
   "source": [
    "# gives the last element from tuple\n",
    "t[-1]"
   ]
  },
  {
   "cell_type": "markdown",
   "id": "f0796b51",
   "metadata": {},
   "source": [
    "### Slicing"
   ]
  },
  {
   "cell_type": "code",
   "execution_count": 36,
   "id": "68259994",
   "metadata": {},
   "outputs": [
    {
     "data": {
      "text/plain": [
       "('Mumbai', 84, 'Python')"
      ]
     },
     "execution_count": 36,
     "metadata": {},
     "output_type": "execute_result"
    }
   ],
   "source": [
    "# Slicing first 3 elements from t\n",
    "\n",
    "t = (\"Mumbai\", 84, \"Python\", 5, 2, 1)\n",
    "\n",
    "t[0:3]"
   ]
  },
  {
   "cell_type": "code",
   "execution_count": 37,
   "id": "2e35ad8a",
   "metadata": {},
   "outputs": [
    {
     "data": {
      "text/plain": [
       "(2, 1)"
      ]
     },
     "execution_count": 37,
     "metadata": {},
     "output_type": "execute_result"
    }
   ],
   "source": [
    "# Slicing last 2 elements from t\n",
    "\n",
    "t = (\"Mumbai\", 84, \"Python\", 5, 2, 1)\n",
    "\n",
    "t[-2:]"
   ]
  },
  {
   "cell_type": "code",
   "execution_count": 38,
   "id": "7c9bc554",
   "metadata": {},
   "outputs": [
    {
     "data": {
      "text/plain": [
       "6"
      ]
     },
     "execution_count": 38,
     "metadata": {},
     "output_type": "execute_result"
    }
   ],
   "source": [
    "# no. of elements in tuple t\n",
    "t = (\"Mumbai\", 84, \"Python\", 5, 2, 1)\n",
    "len(t)"
   ]
  },
  {
   "cell_type": "markdown",
   "id": "a6a463ea",
   "metadata": {},
   "source": [
    "#### Cancatenating tuples"
   ]
  },
  {
   "cell_type": "code",
   "execution_count": 39,
   "id": "112fa95a",
   "metadata": {},
   "outputs": [
    {
     "data": {
      "text/plain": [
       "('This', 'is', 'Session', 2, 'on', 'Tuples')"
      ]
     },
     "execution_count": 39,
     "metadata": {},
     "output_type": "execute_result"
    }
   ],
   "source": [
    "tup1 = (\"This\", \"is\", \"Session\", 2)\n",
    "tup2 = (\"on\", \"Tuples\")\n",
    "\n",
    "# Adding contents of tup2 to tup1 and storing in tup3\n",
    "\n",
    "tup3 = tup1 + tup2\n",
    "\n",
    "tup3"
   ]
  },
  {
   "cell_type": "markdown",
   "id": "207db0de",
   "metadata": {},
   "source": [
    "#### sum() - min() - max()"
   ]
  },
  {
   "cell_type": "code",
   "execution_count": 40,
   "id": "7c2fe49a",
   "metadata": {},
   "outputs": [
    {
     "data": {
      "text/plain": [
       "21"
      ]
     },
     "execution_count": 40,
     "metadata": {},
     "output_type": "execute_result"
    }
   ],
   "source": [
    "t = (2, 4, 3, 5, 7)\n",
    "sum(t)"
   ]
  },
  {
   "cell_type": "code",
   "execution_count": 41,
   "id": "21ff6a70",
   "metadata": {},
   "outputs": [
    {
     "data": {
      "text/plain": [
       "2"
      ]
     },
     "execution_count": 41,
     "metadata": {},
     "output_type": "execute_result"
    }
   ],
   "source": [
    "t = (2,4,3,5,7)\n",
    "min(t)"
   ]
  },
  {
   "cell_type": "code",
   "execution_count": 42,
   "id": "2c90f504",
   "metadata": {},
   "outputs": [
    {
     "data": {
      "text/plain": [
       "7"
      ]
     },
     "execution_count": 42,
     "metadata": {},
     "output_type": "execute_result"
    }
   ],
   "source": [
    "t = (2, 4, 3, 5, 7)\n",
    "max(t)"
   ]
  },
  {
   "cell_type": "markdown",
   "id": "c0f8477a",
   "metadata": {},
   "source": [
    "### Immutability of tuples"
   ]
  },
  {
   "cell_type": "code",
   "execution_count": 43,
   "id": "bf21c596",
   "metadata": {},
   "outputs": [
    {
     "ename": "TypeError",
     "evalue": "'tuple' object does not support item assignment",
     "output_type": "error",
     "traceback": [
      "\u001b[1;31m---------------------------------------------------------------------------\u001b[0m",
      "\u001b[1;31mTypeError\u001b[0m                                 Traceback (most recent call last)",
      "Cell \u001b[1;32mIn[43], line 3\u001b[0m\n\u001b[0;32m      1\u001b[0m t \u001b[38;5;241m=\u001b[39m (\u001b[38;5;124m\"\u001b[39m\u001b[38;5;124mUSA\u001b[39m\u001b[38;5;124m\"\u001b[39m, \u001b[38;5;241m4\u001b[39m, \u001b[38;5;241m3\u001b[39m, \u001b[38;5;124m\"\u001b[39m\u001b[38;5;124mDisco\u001b[39m\u001b[38;5;124m\"\u001b[39m, \u001b[38;5;241m7.5\u001b[39m)\n\u001b[1;32m----> 3\u001b[0m t[\u001b[38;5;241m3\u001b[39m] \u001b[38;5;241m=\u001b[39m \u001b[38;5;124m\"\u001b[39m\u001b[38;5;124mHard Rock\u001b[39m\u001b[38;5;124m\"\u001b[39m\n",
      "\u001b[1;31mTypeError\u001b[0m: 'tuple' object does not support item assignment"
     ]
    }
   ],
   "source": [
    "t = (\"USA\", 4, 3, \"Disco\", 7.5)\n",
    "\n",
    "t[3] = \"Hard Rock\""
   ]
  },
  {
   "cell_type": "code",
   "execution_count": 44,
   "id": "9bff878c",
   "metadata": {},
   "outputs": [
    {
     "data": {
      "text/plain": [
       "('USA', 4, 3, 'Hard Rock', 7.5)"
      ]
     },
     "execution_count": 44,
     "metadata": {},
     "output_type": "execute_result"
    }
   ],
   "source": [
    "new_t = t[0:3] + (\"Hard Rock\",) + t[4:]\n",
    "new_t"
   ]
  },
  {
   "cell_type": "markdown",
   "id": "0aec2587",
   "metadata": {},
   "source": [
    "### Sorting a tuple"
   ]
  },
  {
   "cell_type": "code",
   "execution_count": 45,
   "id": "ba6b2189",
   "metadata": {},
   "outputs": [
    {
     "data": {
      "text/plain": [
       "[2, 3, 4, 5, 6, 8]"
      ]
     },
     "execution_count": 45,
     "metadata": {},
     "output_type": "execute_result"
    }
   ],
   "source": [
    "t = (2,3,6,4,8,5)\n",
    "\n",
    "sorted(t)"
   ]
  },
  {
   "cell_type": "code",
   "execution_count": 46,
   "id": "2455584b",
   "metadata": {},
   "outputs": [
    {
     "data": {
      "text/plain": [
       "'Java'"
      ]
     },
     "execution_count": 46,
     "metadata": {},
     "output_type": "execute_result"
    }
   ],
   "source": [
    "# Nested Tuples\n",
    "\n",
    "t = (1,5,\"Disco\", (\"Python\", \"Java\"))\n",
    "\n",
    "# Access \"Java\" from the nested tuple\n",
    "t[3][1]"
   ]
  },
  {
   "cell_type": "code",
   "execution_count": 47,
   "id": "99f3dee8",
   "metadata": {},
   "outputs": [
    {
     "data": {
      "text/plain": [
       "{'India': 'INR', 'USA': 'USD', 'France': 'Euros'}"
      ]
     },
     "execution_count": 47,
     "metadata": {},
     "output_type": "execute_result"
    }
   ],
   "source": [
    "d = {\"India\" : \"INR\", \"USA\" : \"Dollars\", \"France\" : \"Euros\", \"USA\" : \"USD\"}\n",
    "d"
   ]
  },
  {
   "cell_type": "markdown",
   "id": "36345c04",
   "metadata": {},
   "source": [
    "### Packing and Unpacking In Tuples"
   ]
  },
  {
   "cell_type": "code",
   "execution_count": 48,
   "id": "16f0cf80",
   "metadata": {},
   "outputs": [
    {
     "name": "stdout",
     "output_type": "stream",
     "text": [
      "1 4\n"
     ]
    }
   ],
   "source": [
    "t = (1,2,3,4)     # Packing \n",
    "(a,b,c,d) = t     # Unpacking \n",
    "print (a,d)\n"
   ]
  },
  {
   "cell_type": "markdown",
   "id": "01c115f1",
   "metadata": {},
   "source": [
    "#### dir() - to view the attributes or methods of an object"
   ]
  },
  {
   "cell_type": "code",
   "execution_count": 49,
   "id": "52f06067",
   "metadata": {},
   "outputs": [
    {
     "name": "stdout",
     "output_type": "stream",
     "text": [
      "['__add__', '__class__', '__class_getitem__', '__contains__', '__delattr__', '__dir__', '__doc__', '__eq__', '__format__', '__ge__', '__getattribute__', '__getitem__', '__getnewargs__', '__getstate__', '__gt__', '__hash__', '__init__', '__init_subclass__', '__iter__', '__le__', '__len__', '__lt__', '__mul__', '__ne__', '__new__', '__reduce__', '__reduce_ex__', '__repr__', '__rmul__', '__setattr__', '__sizeof__', '__str__', '__subclasshook__', 'count', 'index']\n"
     ]
    }
   ],
   "source": [
    "t = ()\n",
    "print(dir(t))"
   ]
  },
  {
   "cell_type": "markdown",
   "id": "400dc8f5",
   "metadata": {},
   "source": [
    "<h1 style=\"color:Brown\"> Lists </h1>\n",
    "\n",
    "- Lists are an ordered sequnce of mixed data types.\n",
    "- Lists are written as comma-separated  elements within square brackets"
   ]
  },
  {
   "cell_type": "code",
   "execution_count": 50,
   "id": "c6c38e12",
   "metadata": {},
   "outputs": [
    {
     "data": {
      "text/plain": [
       "['India', 23, 6, 'Mumbai']"
      ]
     },
     "execution_count": 50,
     "metadata": {},
     "output_type": "execute_result"
    }
   ],
   "source": [
    "L = [\"India\", 23, 6, \"Mumbai\"]\n",
    "\n",
    "L"
   ]
  },
  {
   "cell_type": "code",
   "execution_count": 51,
   "id": "8956384b",
   "metadata": {},
   "outputs": [
    {
     "data": {
      "text/plain": [
       "['Chemistry', 'Biology', [1989, 2004], ('Oreily', 'Pearson')]"
      ]
     },
     "execution_count": 51,
     "metadata": {},
     "output_type": "execute_result"
    }
   ],
   "source": [
    "# Nested List\n",
    "\n",
    "L = [\"Chemistry\", \"Biology\", [1989, 2004], (\"Oreily\", \"Pearson\")]\n",
    "\n",
    "L"
   ]
  },
  {
   "cell_type": "code",
   "execution_count": 52,
   "id": "47d785e2",
   "metadata": {},
   "outputs": [
    {
     "data": {
      "text/plain": [
       "'Chemistry'"
      ]
     },
     "execution_count": 52,
     "metadata": {},
     "output_type": "execute_result"
    }
   ],
   "source": [
    "# Indexing\n",
    "\n",
    "L = [\"Chemistry\", \"Biology\", [1989, 2004], (\"Oreily\", \"Pearson\")]\n",
    "\n",
    "L[0]"
   ]
  },
  {
   "cell_type": "code",
   "execution_count": 53,
   "id": "d71933b8",
   "metadata": {},
   "outputs": [
    {
     "data": {
      "text/plain": [
       "'Biology'"
      ]
     },
     "execution_count": 53,
     "metadata": {},
     "output_type": "execute_result"
    }
   ],
   "source": [
    "L[-3]"
   ]
  },
  {
   "cell_type": "code",
   "execution_count": 54,
   "id": "45872da8",
   "metadata": {},
   "outputs": [
    {
     "data": {
      "text/plain": [
       "['Chemistry', 'Biology', [1989, 2004]]"
      ]
     },
     "execution_count": 54,
     "metadata": {},
     "output_type": "execute_result"
    }
   ],
   "source": [
    "# Slicing\n",
    "\n",
    "L[0:3]"
   ]
  },
  {
   "cell_type": "code",
   "execution_count": 55,
   "id": "53fbaeb9",
   "metadata": {},
   "outputs": [
    {
     "data": {
      "text/plain": [
       "['Chemistry', 'Biology', [1989, 2004], ('Oreily', 'Pearson'), 5, 8]"
      ]
     },
     "execution_count": 55,
     "metadata": {},
     "output_type": "execute_result"
    }
   ],
   "source": [
    "# List Concatanetion\n",
    "\n",
    "L = [\"Chemistry\", \"Biology\", [1989, 2004], (\"Oreily\", \"Pearson\")]\n",
    "new_L = L + [5, 8]\n",
    "new_L"
   ]
  },
  {
   "cell_type": "code",
   "execution_count": 56,
   "id": "8de1b0f7",
   "metadata": {},
   "outputs": [
    {
     "data": {
      "text/plain": [
       "['Chemistry', 'Physics', [1989, 2004], ('Oreily', 'Pearson')]"
      ]
     },
     "execution_count": 56,
     "metadata": {},
     "output_type": "execute_result"
    }
   ],
   "source": [
    "# Replace \"Biology\" with \"Physics\"\n",
    "\n",
    "L = [\"Chemistry\", \"Biology\", [1989, 2004], (\"Oreily\", \"Pearson\")]\n",
    "\n",
    "L[1] = \"Physics\"\n",
    "\n",
    "L"
   ]
  },
  {
   "cell_type": "markdown",
   "id": "4cf61cf1",
   "metadata": {},
   "source": [
    "Some of the important methods available with lists include:\n",
    "\n",
    "    extend(): Extend a list by adding elements at the end of the list\n",
    "\n",
    "    append(): Append an object to the end of a list"
   ]
  },
  {
   "cell_type": "code",
   "execution_count": 57,
   "id": "7ccb2b73",
   "metadata": {},
   "outputs": [
    {
     "data": {
      "text/plain": [
       "['Chemistry', 'Biology', [1989, 2004], ('Oreily', 'Pearson'), 5, 8]"
      ]
     },
     "execution_count": 57,
     "metadata": {},
     "output_type": "execute_result"
    }
   ],
   "source": [
    "# extend()\n",
    "\n",
    "L = [\"Chemistry\", \"Biology\", [1989, 2004], (\"Oreily\", \"Pearson\")]\n",
    "L.extend([5, 8])\n",
    "L"
   ]
  },
  {
   "cell_type": "code",
   "execution_count": 58,
   "id": "3e0fbd5c",
   "metadata": {},
   "outputs": [
    {
     "data": {
      "text/plain": [
       "['Chemistry', 'Biology', [1989, 2004], ('Oreily', 'Pearson'), [5, 8]]"
      ]
     },
     "execution_count": 58,
     "metadata": {},
     "output_type": "execute_result"
    }
   ],
   "source": [
    "# append()\n",
    "\n",
    "L = [\"Chemistry\", \"Biology\", [1989, 2004], (\"Oreily\", \"Pearson\")]\n",
    "L.append([5, 8])\n",
    "L"
   ]
  },
  {
   "cell_type": "code",
   "execution_count": 59,
   "id": "ccdaf118",
   "metadata": {},
   "outputs": [
    {
     "data": {
      "text/plain": [
       "['Biology', [1989, 2004], ('Oreily', 'Pearson')]"
      ]
     },
     "execution_count": 59,
     "metadata": {},
     "output_type": "execute_result"
    }
   ],
   "source": [
    "# del Command\n",
    "\n",
    "L = [\"Chemistry\", \"Biology\", [1989, 2004], (\"Oreily\", \"Pearson\")]\n",
    "del L[0]\n",
    "L"
   ]
  },
  {
   "cell_type": "markdown",
   "id": "17f0b7d9",
   "metadata": {},
   "source": [
    "pop(index): Remove and return the item at index (default last)\n",
    "\n",
    "remove(value): Remove the first occurrence of a value in the list\n",
    "\n",
    "sort(): Stable sort *IN PLACE*"
   ]
  },
  {
   "cell_type": "code",
   "execution_count": 60,
   "id": "fa4085d4",
   "metadata": {},
   "outputs": [
    {
     "data": {
      "text/plain": [
       "['Chemistry', 'Biology', [1989, 2004]]"
      ]
     },
     "execution_count": 60,
     "metadata": {},
     "output_type": "execute_result"
    }
   ],
   "source": [
    "# pop() \n",
    "\n",
    "L = [\"Chemistry\", \"Biology\", [1989, 2004], (\"Oreily\", \"Pearson\")]\n",
    "\n",
    "L.pop()\n",
    "\n",
    "L"
   ]
  },
  {
   "cell_type": "code",
   "execution_count": 61,
   "id": "7f45858e",
   "metadata": {},
   "outputs": [
    {
     "data": {
      "text/plain": [
       "['Biology', [1989, 2004], ('Oreily', 'Pearson')]"
      ]
     },
     "execution_count": 61,
     "metadata": {},
     "output_type": "execute_result"
    }
   ],
   "source": [
    "# remove()\n",
    "\n",
    "L = [\"Chemistry\", \"Biology\", [1989, 2004], (\"Oreily\", \"Pearson\")]\n",
    "\n",
    "L.remove(\"Chemistry\")\n",
    "\n",
    "L"
   ]
  },
  {
   "cell_type": "code",
   "execution_count": 62,
   "id": "bad5de78",
   "metadata": {},
   "outputs": [
    {
     "data": {
      "text/plain": [
       "[9, 24, 32, 65]"
      ]
     },
     "execution_count": 62,
     "metadata": {},
     "output_type": "execute_result"
    }
   ],
   "source": [
    "# Sorting Lists\n",
    "\n",
    "l = [32, 24, 65, 9]\n",
    "l.sort()\n",
    "l"
   ]
  },
  {
   "cell_type": "code",
   "execution_count": 63,
   "id": "9afe06a7",
   "metadata": {},
   "outputs": [
    {
     "data": {
      "text/plain": [
       "[65, 32, 24, 9]"
      ]
     },
     "execution_count": 63,
     "metadata": {},
     "output_type": "execute_result"
    }
   ],
   "source": [
    "l.sort(reverse= True)\n",
    "l"
   ]
  },
  {
   "cell_type": "markdown",
   "id": "8b092e0b",
   "metadata": {},
   "source": [
    "#### Difference between sort and sorted"
   ]
  },
  {
   "cell_type": "code",
   "execution_count": 64,
   "id": "5974697c",
   "metadata": {},
   "outputs": [
    {
     "name": "stdout",
     "output_type": "stream",
     "text": [
      "['Mango', 'Orange', 'Strawberry']\n",
      "None\n"
     ]
    }
   ],
   "source": [
    "A = [\"Orange\", \"Strawberry\", \"Mango\"]\n",
    "B = A.sort()\n",
    "\n",
    "print(A)\n",
    "print(B)"
   ]
  },
  {
   "cell_type": "code",
   "execution_count": 65,
   "id": "8f359c20",
   "metadata": {},
   "outputs": [
    {
     "name": "stdout",
     "output_type": "stream",
     "text": [
      "['Orange', 'Strawberry', 'Mango']\n",
      "['Mango', 'Orange', 'Strawberry']\n"
     ]
    }
   ],
   "source": [
    "A = [\"Orange\", \"Strawberry\", \"Mango\"]\n",
    "C = sorted(A)\n",
    "\n",
    "print(A)\n",
    "print(C)"
   ]
  },
  {
   "cell_type": "markdown",
   "id": "a0fed073",
   "metadata": {},
   "source": [
    "#### Shallow Copying"
   ]
  },
  {
   "cell_type": "code",
   "execution_count": 66,
   "id": "04d2006f",
   "metadata": {},
   "outputs": [],
   "source": [
    "A = [\"Orange\", \"Strawberry\", \"Mango\"]\n",
    "B = A\n",
    "\n",
    "A[0] = \"Apple\""
   ]
  },
  {
   "cell_type": "code",
   "execution_count": 67,
   "id": "0401eee1",
   "metadata": {},
   "outputs": [
    {
     "data": {
      "text/plain": [
       "['Apple', 'Strawberry', 'Mango']"
      ]
     },
     "execution_count": 67,
     "metadata": {},
     "output_type": "execute_result"
    }
   ],
   "source": [
    "A"
   ]
  },
  {
   "cell_type": "code",
   "execution_count": 68,
   "id": "a30a50ac",
   "metadata": {},
   "outputs": [
    {
     "data": {
      "text/plain": [
       "['Apple', 'Strawberry', 'Mango']"
      ]
     },
     "execution_count": 68,
     "metadata": {},
     "output_type": "execute_result"
    }
   ],
   "source": [
    "B"
   ]
  },
  {
   "cell_type": "code",
   "execution_count": 69,
   "id": "8fbb5dbc",
   "metadata": {},
   "outputs": [],
   "source": [
    "A = [\"Orange\", \"Strawberry\", \"Mango\"]\n",
    "B = A[:]\n",
    "\n",
    "A[0] = \"Apple\""
   ]
  },
  {
   "cell_type": "code",
   "execution_count": 70,
   "id": "30119b06",
   "metadata": {},
   "outputs": [
    {
     "data": {
      "text/plain": [
       "['Apple', 'Strawberry', 'Mango']"
      ]
     },
     "execution_count": 70,
     "metadata": {},
     "output_type": "execute_result"
    }
   ],
   "source": [
    "A"
   ]
  },
  {
   "cell_type": "code",
   "execution_count": 71,
   "id": "7f4bab47",
   "metadata": {},
   "outputs": [
    {
     "data": {
      "text/plain": [
       "['Orange', 'Strawberry', 'Mango']"
      ]
     },
     "execution_count": 71,
     "metadata": {},
     "output_type": "execute_result"
    }
   ],
   "source": [
    "B"
   ]
  },
  {
   "cell_type": "markdown",
   "id": "ac361ed4",
   "metadata": {},
   "source": [
    "<h1 style=\"color:Brown\"> Sets </h1>\n",
    "\n",
    "- Sets are a type of collection like lists and tuples, storing mixed data.\n",
    "- Sets are enclosed within curly brackets and elements are written as comma-separated.\n",
    "- Sets are unordered\n",
    "- Sets does not allow duplicates"
   ]
  },
  {
   "cell_type": "code",
   "execution_count": 72,
   "id": "6fb27043",
   "metadata": {},
   "outputs": [
    {
     "data": {
      "text/plain": [
       "{1, 2, 3, 4, 5}"
      ]
     },
     "execution_count": 72,
     "metadata": {},
     "output_type": "execute_result"
    }
   ],
   "source": [
    "l = [1,3,2,4,5,5]\n",
    "\n",
    "set_l = set(l)\n",
    "\n",
    "set_l"
   ]
  },
  {
   "cell_type": "code",
   "execution_count": 73,
   "id": "d4c587c4",
   "metadata": {},
   "outputs": [
    {
     "data": {
      "text/plain": [
       "5"
      ]
     },
     "execution_count": 73,
     "metadata": {},
     "output_type": "execute_result"
    }
   ],
   "source": [
    "len(set_l)"
   ]
  },
  {
   "cell_type": "code",
   "execution_count": 74,
   "id": "1946238b",
   "metadata": {},
   "outputs": [
    {
     "data": {
      "text/plain": [
       "{1, 2, 3, 4, 5, 'India'}"
      ]
     },
     "execution_count": 74,
     "metadata": {},
     "output_type": "execute_result"
    }
   ],
   "source": [
    "a = {1, 2, 3, 4, 5}\n",
    "\n",
    "a.add(\"India\")\n",
    "\n",
    "a"
   ]
  },
  {
   "cell_type": "code",
   "execution_count": 75,
   "id": "0811b04d",
   "metadata": {},
   "outputs": [
    {
     "data": {
      "text/plain": [
       "{1, 2, 3, 4, 5, 'India'}"
      ]
     },
     "execution_count": 75,
     "metadata": {},
     "output_type": "execute_result"
    }
   ],
   "source": [
    "a.add(\"India\")\n",
    "a"
   ]
  },
  {
   "cell_type": "code",
   "execution_count": 76,
   "id": "551f7184",
   "metadata": {},
   "outputs": [
    {
     "data": {
      "text/plain": [
       "{1, 2, 3, 4, 5}"
      ]
     },
     "execution_count": 76,
     "metadata": {},
     "output_type": "execute_result"
    }
   ],
   "source": [
    "a = {1, 2, 3, 4, 5, \"India\"}\n",
    "a.remove(\"India\")\n",
    "a"
   ]
  },
  {
   "cell_type": "code",
   "execution_count": 77,
   "id": "8a6cf981",
   "metadata": {},
   "outputs": [],
   "source": [
    "# Set Operations\n",
    "\n",
    "A = {0, 2, 4, 6, 8}\n",
    "B = {1, 2, 3, 4, 5}"
   ]
  },
  {
   "cell_type": "code",
   "execution_count": 78,
   "id": "49798ccc",
   "metadata": {},
   "outputs": [
    {
     "name": "stdout",
     "output_type": "stream",
     "text": [
      "{0, 1, 2, 3, 4, 5, 6, 8}\n"
     ]
    }
   ],
   "source": [
    "print(A | B) # Union"
   ]
  },
  {
   "cell_type": "code",
   "execution_count": 79,
   "id": "3a83f3d4",
   "metadata": {},
   "outputs": [
    {
     "name": "stdout",
     "output_type": "stream",
     "text": [
      "{2, 4}\n"
     ]
    }
   ],
   "source": [
    "print(A & B) # Intersection"
   ]
  },
  {
   "cell_type": "code",
   "execution_count": 80,
   "id": "031b8a08",
   "metadata": {},
   "outputs": [
    {
     "name": "stdout",
     "output_type": "stream",
     "text": [
      "{0, 8, 6}\n"
     ]
    }
   ],
   "source": [
    "print(A - B) # Difference"
   ]
  },
  {
   "cell_type": "code",
   "execution_count": 81,
   "id": "988be3a7",
   "metadata": {},
   "outputs": [
    {
     "name": "stdout",
     "output_type": "stream",
     "text": [
      "{1, 3, 5}\n"
     ]
    }
   ],
   "source": [
    "print(B - A) # Difference"
   ]
  },
  {
   "cell_type": "code",
   "execution_count": 82,
   "id": "4cf3841a",
   "metadata": {},
   "outputs": [
    {
     "name": "stdout",
     "output_type": "stream",
     "text": [
      "{0, 1, 3, 5, 6, 8}\n"
     ]
    }
   ],
   "source": [
    "print(A ^ B) # Symmetric Difference"
   ]
  },
  {
   "cell_type": "markdown",
   "id": "f6fab210",
   "metadata": {},
   "source": [
    "<h1 style=\"color:Brown\"> Dictionaries </h1>\n",
    "\n",
    "- A dictionary stores element as keys and values pairs.\n",
    "- The key is like an index, its is always unique and immutable. \n",
    "- The values are the objects that contain information.\n",
    "- Values are accessed using their keys.\n",
    "- Each key is followed by a value separated by a colon. \n",
    "- The values can be immutable, mutable, and duplicates. \n",
    "- Each key and value pair is separated by a comma enclosed inside curly brackets."
   ]
  },
  {
   "cell_type": "code",
   "execution_count": 83,
   "id": "1b16e01d",
   "metadata": {},
   "outputs": [
    {
     "data": {
      "text/plain": [
       "'INR'"
      ]
     },
     "execution_count": 83,
     "metadata": {},
     "output_type": "execute_result"
    }
   ],
   "source": [
    "# Creating a dictionary\n",
    "\n",
    "d = {\"India\" : \"INR\", \"USA\" : \"USD\", \"France\" : \"Euros\"}\n",
    "\n",
    "# Access value using keys\n",
    "\n",
    "d[\"India\"]"
   ]
  },
  {
   "cell_type": "code",
   "execution_count": 84,
   "id": "cc4b8266",
   "metadata": {},
   "outputs": [
    {
     "data": {
      "text/plain": [
       "{'India': 'Rs', 'USA': 'USD', 'France': 'Euros'}"
      ]
     },
     "execution_count": 84,
     "metadata": {},
     "output_type": "execute_result"
    }
   ],
   "source": [
    "# Replace the value for a key in a dictionary\n",
    "\n",
    "d[\"India\"] = \"Rs\"\n",
    "\n",
    "d"
   ]
  },
  {
   "cell_type": "code",
   "execution_count": 85,
   "id": "f0b22f4d",
   "metadata": {},
   "outputs": [
    {
     "data": {
      "text/plain": [
       "{'India': 'Rs', 'USA': 'USD', 'France': 'Euros', 'Japan': 'Yen'}"
      ]
     },
     "execution_count": 85,
     "metadata": {},
     "output_type": "execute_result"
    }
   ],
   "source": [
    "# Insert new key value pair into a dictionary\n",
    "\n",
    "d[\"Japan\"] = \"Yen\"\n",
    "\n",
    "d"
   ]
  },
  {
   "cell_type": "code",
   "execution_count": 86,
   "id": "5b904ec7",
   "metadata": {},
   "outputs": [
    {
     "data": {
      "text/plain": [
       "{'India': 'Rs', 'USA': 'USD', 'Japan': 'Yen'}"
      ]
     },
     "execution_count": 86,
     "metadata": {},
     "output_type": "execute_result"
    }
   ],
   "source": [
    "# Deleting a key value pair\n",
    "\n",
    "del d[\"France\"]\n",
    "\n",
    "d"
   ]
  },
  {
   "cell_type": "code",
   "execution_count": 87,
   "id": "03544dbb",
   "metadata": {},
   "outputs": [
    {
     "data": {
      "text/plain": [
       "['India', 'Japan', 'USA']"
      ]
     },
     "execution_count": 87,
     "metadata": {},
     "output_type": "execute_result"
    }
   ],
   "source": [
    "# Sorting a dictionary\n",
    "\n",
    "sorted(d)"
   ]
  },
  {
   "cell_type": "code",
   "execution_count": 88,
   "id": "bf511dbf",
   "metadata": {},
   "outputs": [
    {
     "data": {
      "text/plain": [
       "dict_values(['INR', 'USD', 'Euros'])"
      ]
     },
     "execution_count": 88,
     "metadata": {},
     "output_type": "execute_result"
    }
   ],
   "source": [
    "# Values() method\n",
    "\n",
    "d = {\"India\" : \"INR\", \"USA\" : \"USD\", \"France\" : \"Euros\"}\n",
    "d.values()"
   ]
  },
  {
   "cell_type": "code",
   "execution_count": 89,
   "id": "e7ffda80",
   "metadata": {},
   "outputs": [
    {
     "data": {
      "text/plain": [
       "dict_keys(['India', 'USA', 'France'])"
      ]
     },
     "execution_count": 89,
     "metadata": {},
     "output_type": "execute_result"
    }
   ],
   "source": [
    "# Keys() method\n",
    "\n",
    "d.keys()"
   ]
  },
  {
   "cell_type": "code",
   "execution_count": 90,
   "id": "01568f66",
   "metadata": {},
   "outputs": [
    {
     "data": {
      "text/plain": [
       "{'India': 'Rupee', 'USA': 'USD', 'France': 'Euros'}"
      ]
     },
     "execution_count": 90,
     "metadata": {},
     "output_type": "execute_result"
    }
   ],
   "source": [
    "# Updat() method\n",
    "\n",
    "d.update({'India':'Rupee'})\n",
    "d"
   ]
  },
  {
   "cell_type": "code",
   "execution_count": 91,
   "id": "2decedb1",
   "metadata": {},
   "outputs": [
    {
     "data": {
      "text/plain": [
       "'NA'"
      ]
     },
     "execution_count": 91,
     "metadata": {},
     "output_type": "execute_result"
    }
   ],
   "source": [
    "# get value for a key\n",
    "dict = {'Name': 'Monty', 'Profession': 'Singer' }\n",
    "dict.get('Label', 'NA')"
   ]
  },
  {
   "cell_type": "code",
   "execution_count": 92,
   "id": "e0a66418",
   "metadata": {},
   "outputs": [],
   "source": [
    "# get key for a max value in a dictionary\n"
   ]
  },
  {
   "cell_type": "code",
   "execution_count": null,
   "id": "683e8e9f",
   "metadata": {},
   "outputs": [],
   "source": []
  },
  {
   "cell_type": "code",
   "execution_count": 93,
   "id": "7828a188",
   "metadata": {},
   "outputs": [],
   "source": [
    "# List of order ID’s which are processed \n",
    "processed_orders = [1152, 1154, 1155, 1156, 1157, 1160, 1161, 1162, 1166, 1169, 1170, 1172, 1176, 1050, 1178, 1051, 1052, 1054, 1058, 1060, 1061, 1062, 1065, 1066, 1067, 1068, 1069, 1076, 1077, 1080, 1081, 1083, 1091, 1085, 1088, 1089, 1131, 1092, 1094, 1095, 1099, 1102, 1103, 1104, 1106, 1107, 1108, 1109, 1111, 1117, 1119, 1121, 1150, 1128, 1129, 1136, 1137, 1139, 1140, 1141, 1144, 1148, 1124]\n",
    "\n",
    "# List of order ID’s which are returned\n",
    "returned_orders = [1153, 1158, 1159, 1163, 1164, 1165, 1167, 1168, 1171, 1173, 1174, 1175, 1177, 1053, 1055, 1056, 1057, 1059, 1063, 1064, 1070, 1071, 1072, 1073, 1074, 1075, 1078, 1079, 1082, 1084, 1086, 1087, 1090, 1093, 1096, 1097, 1098, 1100, 1101, 1105, 1110, 1112, 1113, 1114, 1115, 1116, 1118, 1120, 1122, 1123, 1125, 1126, 1127, 1130, 1132, 1133, 1134, 1135, 1138, 1142, 1143, 1145, 1146, 1147, 1149, 1151]\n",
    "\n",
    "# Consider the information available in the above two lists and answer the question given below"
   ]
  },
  {
   "cell_type": "markdown",
   "id": "1a5fa0c8",
   "metadata": {},
   "source": [
    "#### Count the total number of orders [ Orders include both processed and returned orders]\n",
    "\n",
    "- 63\n",
    "- 66\n",
    "- 126\n",
    "- 129"
   ]
  },
  {
   "cell_type": "code",
   "execution_count": 94,
   "id": "a1892d99",
   "metadata": {},
   "outputs": [
    {
     "data": {
      "text/plain": [
       "129"
      ]
     },
     "execution_count": 94,
     "metadata": {},
     "output_type": "execute_result"
    }
   ],
   "source": [
    "# Type your code here\n",
    "len(processed_orders)+len(returned_orders)"
   ]
  },
  {
   "cell_type": "markdown",
   "id": "540c01a1",
   "metadata": {},
   "source": [
    "#### In the total orders, identify the 50th order [ Note: Assume the order ID’s are being generated in a consecutive manner]\n",
    "\n",
    "- 1152\n",
    "- 1099\n",
    "- 1154\n",
    "- 1100\n"
   ]
  },
  {
   "cell_type": "code",
   "execution_count": 95,
   "id": "9a2dce20",
   "metadata": {},
   "outputs": [
    {
     "data": {
      "text/plain": [
       "1099"
      ]
     },
     "execution_count": 95,
     "metadata": {},
     "output_type": "execute_result"
    }
   ],
   "source": [
    "# Type your code here\n",
    "# total_orders = processed_orders+returned_orders\n",
    "\n",
    "orders = processed_orders + returned_orders\n",
    "orders.sort()\n",
    "orders[49]"
   ]
  },
  {
   "cell_type": "markdown",
   "id": "4d2e2cfc",
   "metadata": {},
   "source": [
    "#### Is 50th order a returned order or processed order?\n",
    "\n",
    "- Returned Order\n",
    "- Processed Order\n"
   ]
  },
  {
   "cell_type": "code",
   "execution_count": 96,
   "id": "e12370fb",
   "metadata": {},
   "outputs": [
    {
     "data": {
      "text/plain": [
       "True"
      ]
     },
     "execution_count": 96,
     "metadata": {},
     "output_type": "execute_result"
    }
   ],
   "source": [
    "orders[49] in processed_orders"
   ]
  },
  {
   "cell_type": "markdown",
   "id": "ee756056",
   "metadata": {},
   "source": [
    "#### What is the last processed order ID ? [ Note: Assume the order ID’s are being generated in a consecutive manner]\n",
    "\n",
    "- 1050\n",
    "- 1178\n",
    "- 1124\n",
    "- 1177\n",
    "\n"
   ]
  },
  {
   "cell_type": "code",
   "execution_count": 97,
   "id": "21050e95",
   "metadata": {},
   "outputs": [
    {
     "data": {
      "text/plain": [
       "1178"
      ]
     },
     "execution_count": 97,
     "metadata": {},
     "output_type": "execute_result"
    }
   ],
   "source": [
    "processed_orders.sort()\n",
    "processed_orders[-1]"
   ]
  },
  {
   "cell_type": "markdown",
   "id": "cde18504",
   "metadata": {},
   "source": [
    "#### Identify the first 4 orders which are processed?\n",
    "\n",
    "- 1152, 1154, 1155, 1156\n",
    "- 1051, 1152, 1153, 1154\n",
    "- 1050, 1051, 1052, 1054\n",
    "- 1050, 1051, 1052, 1053"
   ]
  },
  {
   "cell_type": "code",
   "execution_count": 98,
   "id": "047d1dd2",
   "metadata": {},
   "outputs": [
    {
     "data": {
      "text/plain": [
       "[1050, 1051, 1052, 1054]"
      ]
     },
     "execution_count": 98,
     "metadata": {},
     "output_type": "execute_result"
    }
   ],
   "source": [
    "processed_orders[0:4]"
   ]
  },
  {
   "cell_type": "code",
   "execution_count": null,
   "id": "3602610b",
   "metadata": {},
   "outputs": [],
   "source": []
  },
  {
   "cell_type": "code",
   "execution_count": null,
   "id": "d9c22026",
   "metadata": {},
   "outputs": [],
   "source": []
  },
  {
   "cell_type": "code",
   "execution_count": 99,
   "id": "dad05776",
   "metadata": {},
   "outputs": [],
   "source": [
    "# employee data with key as id of the employee and values as age of the employee\n",
    "Employee_data ={101: 43, 102: 25, 103: 43, 104: 31, 105: 26, 106: 28, 107: 29, 108: 43, 109: 25, 110: 22, 111: 22, 112: 25, 113: 30, 115: 45, 116: 23, 117: 29, 118: 28, 119: 30, 120: 28, 121: 42, 122: 39, 123: 29, 124: 42, 125: 43, 126: 42, 127: 40, 128: 27, 129: 23, 130: 30, 131: 37, 132: 20, 133: 36, 134: 27, 135: 27, 136: 22, 137: 28, 138: 23, 139: 45, 140: 39, 141: 29, 142: 33, 143: 39, 145: 34, 146: 26, 147: 30, 148: 38, 149: 29, 150: 24, 151: 28, 152: 34, 153: 42, 154: 29, 155: 23, 156: 31, 158: 25, 160: 45, 161: 42, 162: 27, 163: 24, 164: 20, 166: 24, 167: 28, 168: 20, 169: 33, 170: 34, 171: 37, 172: 45, 173: 35, 174: 23, 175: 44, 176: 27, 177: 30, 178: 26, 179: 27} "
   ]
  },
  {
   "cell_type": "markdown",
   "id": "32ab2a9e",
   "metadata": {},
   "source": [
    "#### Identify the senior most employees age\n",
    "\n",
    "- 45\n",
    "- 44\n",
    "- 48\n",
    "- 42"
   ]
  },
  {
   "cell_type": "code",
   "execution_count": 100,
   "id": "fdae69f7",
   "metadata": {},
   "outputs": [
    {
     "data": {
      "text/plain": [
       "45"
      ]
     },
     "execution_count": 100,
     "metadata": {},
     "output_type": "execute_result"
    }
   ],
   "source": [
    "# Type your code here\n",
    "max(Employee_data.values())"
   ]
  },
  {
   "cell_type": "markdown",
   "id": "2822ca6e",
   "metadata": {},
   "source": [
    "#### Identify the age of the employee with employee id 159 [ If the employee isn't present return NA]\n",
    "\n",
    "- 25\n",
    "- 32\n",
    "- NA\n",
    "- 42"
   ]
  },
  {
   "cell_type": "code",
   "execution_count": 101,
   "id": "c8b60647",
   "metadata": {},
   "outputs": [
    {
     "data": {
      "text/plain": [
       "'NA'"
      ]
     },
     "execution_count": 101,
     "metadata": {},
     "output_type": "execute_result"
    }
   ],
   "source": [
    "# Type your code here\n",
    "Employee_data.get(159,'NA')"
   ]
  },
  {
   "cell_type": "markdown",
   "id": "e547feff",
   "metadata": {},
   "source": [
    "#### Count the total number of employee in the organization\n",
    "\n",
    "- 79\n",
    "- 78\n",
    "- 60\n",
    "- 74"
   ]
  },
  {
   "cell_type": "code",
   "execution_count": 102,
   "id": "8c1fc048",
   "metadata": {},
   "outputs": [
    {
     "data": {
      "text/plain": [
       "74"
      ]
     },
     "execution_count": 102,
     "metadata": {},
     "output_type": "execute_result"
    }
   ],
   "source": [
    "# Type your code here\n",
    "len(Employee_data)"
   ]
  },
  {
   "cell_type": "markdown",
   "id": "a88756bb",
   "metadata": {},
   "source": [
    "#### Calculate the mean age of the employees\n",
    "\n",
    "- 31.36\n",
    "- 36.48\n",
    "- 28.77\n",
    "- 32.47"
   ]
  },
  {
   "cell_type": "code",
   "execution_count": 103,
   "id": "d69d3a3d",
   "metadata": {},
   "outputs": [
    {
     "data": {
      "text/plain": [
       "31.364864864864863"
      ]
     },
     "execution_count": 103,
     "metadata": {},
     "output_type": "execute_result"
    }
   ],
   "source": [
    "# Type your code here\n",
    "sum(Employee_data.values())/len(Employee_data)"
   ]
  },
  {
   "cell_type": "markdown",
   "id": "b9e8094f",
   "metadata": {},
   "source": [
    "#### Perform the following two tasks and then calculate the updated mean age of the employees\n",
    "Task1 Update the ages of employee id - 104,140, and 164 as 27 <br>\n",
    "Task2 Remove the employ with employee id - 143 <br>\n",
    "\n",
    "- 30.71\n",
    "- 31.36\n",
    "- 30.13\n",
    "- 31.13\n"
   ]
  },
  {
   "cell_type": "code",
   "execution_count": 104,
   "id": "00065d24",
   "metadata": {},
   "outputs": [],
   "source": [
    "# Type your code here\n",
    "Employee_data.update({104:27,140:27,164:27})\n",
    "del Employee_data[143]"
   ]
  },
  {
   "cell_type": "code",
   "execution_count": 105,
   "id": "af7aba1d",
   "metadata": {},
   "outputs": [
    {
     "data": {
      "text/plain": [
       "31.136986301369863"
      ]
     },
     "execution_count": 105,
     "metadata": {},
     "output_type": "execute_result"
    }
   ],
   "source": [
    "sum(Employee_data.values())/len(Employee_data)"
   ]
  },
  {
   "cell_type": "code",
   "execution_count": null,
   "id": "b55198ee",
   "metadata": {},
   "outputs": [],
   "source": []
  },
  {
   "cell_type": "markdown",
   "id": "c1c10276",
   "metadata": {},
   "source": [
    "## Decision Making"
   ]
  },
  {
   "cell_type": "code",
   "execution_count": 106,
   "id": "c77c4a39",
   "metadata": {},
   "outputs": [
    {
     "name": "stdout",
     "output_type": "stream",
     "text": [
      "12\n"
     ]
    }
   ],
   "source": [
    "a = 10\n",
    "b = 6\n",
    "c=12\n",
    "y= a if a>b and a>c else b if b>c else c\n",
    "print(y)"
   ]
  },
  {
   "cell_type": "code",
   "execution_count": 107,
   "id": "1e21f169",
   "metadata": {},
   "outputs": [
    {
     "name": "stdout",
     "output_type": "stream",
     "text": [
      "yes\n"
     ]
    }
   ],
   "source": [
    "s = 'analytics'\n",
    "print('yes' if s[0].lower() in ['a','e','i','o','u'] else 'No')"
   ]
  },
  {
   "cell_type": "code",
   "execution_count": 108,
   "id": "6ddec7fc",
   "metadata": {},
   "outputs": [
    {
     "data": {
      "text/plain": [
       "[2, 6, 15, 4, 8]"
      ]
     },
     "execution_count": 108,
     "metadata": {},
     "output_type": "execute_result"
    }
   ],
   "source": [
    "L1 = [10, 20, 30, 24, 18]\n",
    "L2 = [8, 14, 15, 20, 10]\n",
    "L3=[]\n",
    "for  i in range(len(L1)):\n",
    "    L3.append(L1[i]-L2[i])\n",
    "L3"
   ]
  },
  {
   "cell_type": "code",
   "execution_count": 109,
   "id": "a25bc989",
   "metadata": {},
   "outputs": [
    {
     "data": {
      "text/plain": [
       "[2, 6, 15, 4, 8]"
      ]
     },
     "execution_count": 109,
     "metadata": {},
     "output_type": "execute_result"
    }
   ],
   "source": [
    "L3 = [L1[i] - L2[i] for i  in range(0, len(L1))]\n",
    "L3"
   ]
  },
  {
   "cell_type": "code",
   "execution_count": 110,
   "id": "1650bfb5",
   "metadata": {},
   "outputs": [
    {
     "name": "stdout",
     "output_type": "stream",
     "text": [
      "{2: 4, 4: 16, 6: 36, 8: 64, 10: 100, 12: 144, 14: 196, 16: 256, 18: 324, 20: 400}\n"
     ]
    }
   ],
   "source": [
    "# Creating a dictionary consisting of even natural numbers as key and square of each element as value \n",
    "updated_dict = {i : i**2 for i in range(2,21) if i % 2 ==0}\n",
    "print(updated_dict)"
   ]
  },
  {
   "cell_type": "code",
   "execution_count": 111,
   "id": "e21e56a4",
   "metadata": {},
   "outputs": [
    {
     "data": {
      "text/plain": [
       "['old', 'apple', 'item', 'euphoria']"
      ]
     },
     "execution_count": 111,
     "metadata": {},
     "output_type": "execute_result"
    }
   ],
   "source": [
    "# words that start with a vowel from a list\n",
    "input_list=['wood','old','apple','big','item','euphoria']\n",
    "list_vowel = [i for i in input_list if i[0] in 'aeiou']\n",
    "list_vowel"
   ]
  },
  {
   "cell_type": "code",
   "execution_count": 112,
   "id": "442230f2",
   "metadata": {
    "scrolled": true
   },
   "outputs": [
    {
     "name": "stdout",
     "output_type": "stream",
     "text": [
      "['9', '8', '3', '4', '2', '3', '4', '2', '3', '4']\n",
      "['a', 's', 'k', 'l', 'f', 'd', 'l', 'k', 'n', 's', 'd', 'f', 'c', 'l', 'k', 'n', 'a', 'k', 'l', 's', 'f', 'n', 'o', 'l', 'k', 'n', 'j', 'n', 'k', 'n']\n"
     ]
    }
   ],
   "source": [
    "# Alpha and Numeric\n",
    "s='asklfdlknsdfclknaklsfn9o834lkn234jn2k34n'\n",
    "numeric = [i for i in s if i.isnumeric()]\n",
    "alpha  = [i for i in s if i.isalpha()]\n",
    "print(numeric)\n",
    "print(alpha)"
   ]
  },
  {
   "cell_type": "code",
   "execution_count": 113,
   "id": "25de13fa",
   "metadata": {},
   "outputs": [
    {
     "data": {
      "text/plain": [
       "{0: 0,\n",
       " 3: 27,\n",
       " 6: 216,\n",
       " 9: 729,\n",
       " 12: 1728,\n",
       " 15: 3375,\n",
       " 18: 5832,\n",
       " 21: 9261,\n",
       " 24: 13824,\n",
       " 27: 19683,\n",
       " 30: 27000,\n",
       " 33: 35937,\n",
       " 36: 46656,\n",
       " 39: 59319,\n",
       " 42: 74088,\n",
       " 45: 91125,\n",
       " 48: 110592,\n",
       " 51: 132651,\n",
       " 54: 157464,\n",
       " 57: 185193,\n",
       " 60: 216000,\n",
       " 63: 250047,\n",
       " 66: 287496,\n",
       " 69: 328509,\n",
       " 72: 373248,\n",
       " 75: 421875,\n",
       " 78: 474552,\n",
       " 81: 531441,\n",
       " 84: 592704,\n",
       " 87: 658503,\n",
       " 90: 729000,\n",
       " 93: 804357,\n",
       " 96: 884736,\n",
       " 99: 970299}"
      ]
     },
     "execution_count": 113,
     "metadata": {},
     "output_type": "execute_result"
    }
   ],
   "source": [
    "dict = {i:i**3 for i in range(100) if i%3==0}\n",
    "dict"
   ]
  },
  {
   "cell_type": "code",
   "execution_count": 114,
   "id": "51f157fe",
   "metadata": {},
   "outputs": [
    {
     "name": "stdout",
     "output_type": "stream",
     "text": [
      "['ad', 'ae', 'af', 'bd', 'be', 'bf', 'cd', 'ce', 'cf']\n"
     ]
    }
   ],
   "source": [
    "# Example\n",
    "print([i+j for i in \"abc\" for j in \"def\"])"
   ]
  },
  {
   "cell_type": "markdown",
   "id": "7eaa545b",
   "metadata": {},
   "source": [
    "## Functions"
   ]
  },
  {
   "cell_type": "code",
   "execution_count": 115,
   "id": "be8bbbfd",
   "metadata": {},
   "outputs": [
    {
     "data": {
      "text/plain": [
       "8"
      ]
     },
     "execution_count": 115,
     "metadata": {},
     "output_type": "execute_result"
    }
   ],
   "source": [
    "# function squared(), which takes x and y as arguments and returns the x**y value\n",
    "def squared(x,y):\n",
    "    fact = x**y\n",
    "    return fact\n",
    "\n",
    "squared(2,3)"
   ]
  },
  {
   "cell_type": "code",
   "execution_count": 116,
   "id": "a0961f5e",
   "metadata": {},
   "outputs": [
    {
     "name": "stdout",
     "output_type": "stream",
     "text": [
      "[2, 6, 15, 4, 8]\n"
     ]
    }
   ],
   "source": [
    "def list_diff(list1,list2):\n",
    "    list3 = []\n",
    "    for  i in range(0, len(list1)):\n",
    "        list3.append(list1[i] - list2[i])\n",
    "    return list3\n",
    "\n",
    "L1 = [10, 20, 30, 24, 18]\n",
    "L2 = [8, 14, 15, 20, 10]\n",
    "\n",
    "print(list_diff(L1, L2))\n"
   ]
  },
  {
   "cell_type": "markdown",
   "id": "22971954",
   "metadata": {},
   "source": [
    "### Lambda"
   ]
  },
  {
   "cell_type": "code",
   "execution_count": 117,
   "id": "8208e9d8",
   "metadata": {},
   "outputs": [
    {
     "name": "stdout",
     "output_type": "stream",
     "text": [
      "100\n"
     ]
    }
   ],
   "source": [
    "# greater function\n",
    "x,y = 100,33\n",
    "greater = lambda x,y: x if x>y else y\n",
    "print(greater(x,y))"
   ]
  },
  {
   "cell_type": "markdown",
   "id": "45f83489",
   "metadata": {},
   "source": [
    "## Map"
   ]
  },
  {
   "cell_type": "code",
   "execution_count": 118,
   "id": "5a0f5c9f",
   "metadata": {},
   "outputs": [
    {
     "name": "stdout",
     "output_type": "stream",
     "text": [
      "[2, 4, 6, 8]\n"
     ]
    }
   ],
   "source": [
    "list_numbers = (1,2,3,4)\n",
    "sample_map = map(lambda x: x*2, list_numbers)\n",
    "print(list(sample_map))\n"
   ]
  },
  {
   "cell_type": "code",
   "execution_count": 119,
   "id": "0b9cc6d9",
   "metadata": {},
   "outputs": [
    {
     "name": "stdout",
     "output_type": "stream",
     "text": [
      "[2, 4, 6, 8]\n"
     ]
    }
   ],
   "source": [
    "def multi(x):\n",
    "    return x*2\n",
    "\n",
    "list_numbers = [1,2,3,4]\n",
    "sample_map = map(multi, list_numbers)\n",
    "\n",
    "print(list(sample_map))"
   ]
  },
  {
   "cell_type": "code",
   "execution_count": 120,
   "id": "cd692d61",
   "metadata": {},
   "outputs": [
    {
     "data": {
      "text/plain": [
       "[144, 576, 1296]"
      ]
     },
     "execution_count": 120,
     "metadata": {},
     "output_type": "execute_result"
    }
   ],
   "source": [
    "num_file = [12,24,36]\n",
    "list(map(lambda num:num**2,num_file))\n"
   ]
  },
  {
   "cell_type": "markdown",
   "id": "3fdb2974",
   "metadata": {},
   "source": [
    "## Filter"
   ]
  },
  {
   "cell_type": "code",
   "execution_count": 121,
   "id": "5af36468",
   "metadata": {},
   "outputs": [
    {
     "data": {
      "text/plain": [
       "['Aman', 'Akash']"
      ]
     },
     "execution_count": 121,
     "metadata": {},
     "output_type": "execute_result"
    }
   ],
   "source": [
    "name = ['Harshit','Aman','Akash']\n",
    "list(filter(lambda x : x.startswith(\"A\"), name))"
   ]
  },
  {
   "cell_type": "markdown",
   "id": "fde9a22b",
   "metadata": {},
   "source": [
    "## Reduce"
   ]
  },
  {
   "cell_type": "code",
   "execution_count": 122,
   "id": "a5d7cea5",
   "metadata": {},
   "outputs": [
    {
     "data": {
      "text/plain": [
       "'harshit aman manas rahul'"
      ]
     },
     "execution_count": 122,
     "metadata": {},
     "output_type": "execute_result"
    }
   ],
   "source": [
    "from functools import reduce\n",
    "list_1 = ['harshit','aman','manas','rahul']\n",
    "reduce(lambda x,y: x +' '+ y,list_1)\n"
   ]
  },
  {
   "cell_type": "code",
   "execution_count": 123,
   "id": "91a8700e",
   "metadata": {},
   "outputs": [
    {
     "name": "stdout",
     "output_type": "stream",
     "text": [
      "All you have to fear is fear itself\n"
     ]
    }
   ],
   "source": [
    "from functools import reduce\n",
    "\n",
    "l103 = ['All','you','have','to','fear','is','fear','itself']\n",
    "\n",
    "result = reduce(lambda x,y: x +\" \"+ y,l103)\n",
    "\n",
    "print(result)"
   ]
  },
  {
   "cell_type": "code",
   "execution_count": 124,
   "id": "69d55c00",
   "metadata": {},
   "outputs": [
    {
     "data": {
      "text/plain": [
       "99"
      ]
     },
     "execution_count": 124,
     "metadata": {},
     "output_type": "execute_result"
    }
   ],
   "source": [
    "l104 = [65,76,87,23,12,90,99]\n",
    "res = reduce(lambda x,y: x if x>y else y, l104)\n",
    "res"
   ]
  },
  {
   "cell_type": "code",
   "execution_count": null,
   "id": "a1de943b",
   "metadata": {},
   "outputs": [],
   "source": []
  },
  {
   "cell_type": "markdown",
   "id": "1442be8d",
   "metadata": {},
   "source": [
    "#### Examples"
   ]
  },
  {
   "cell_type": "code",
   "execution_count": 125,
   "id": "c5e2dd65",
   "metadata": {},
   "outputs": [
    {
     "name": "stdout",
     "output_type": "stream",
     "text": [
      "2\n"
     ]
    }
   ],
   "source": [
    "list1 = ['Santa Cruz','Santa fe','Mumbai','Delhi']\n",
    "count = sum(map(lambda x: x[0] == 'S', list1))\n",
    "print((count))"
   ]
  },
  {
   "cell_type": "code",
   "execution_count": 126,
   "id": "46cb069c",
   "metadata": {},
   "outputs": [],
   "source": [
    "l1 = ['Ankur', 'Avik', 'Kiran', 'Nitin']\n",
    "l2=['Narang', 'Sarkar', 'R', 'Sareen']"
   ]
  },
  {
   "cell_type": "code",
   "execution_count": 127,
   "id": "b7fa3711",
   "metadata": {},
   "outputs": [
    {
     "data": {
      "text/plain": [
       "['Ankur Narang', 'Avik Sarkar', 'Kiran R', 'Nitin Sareen']"
      ]
     },
     "execution_count": 127,
     "metadata": {},
     "output_type": "execute_result"
    }
   ],
   "source": [
    "z = [l1[i]+\" \"+l2[i] for i in range(len(l1))]\n",
    "z"
   ]
  },
  {
   "cell_type": "code",
   "execution_count": 128,
   "id": "4f741ede",
   "metadata": {},
   "outputs": [
    {
     "name": "stdout",
     "output_type": "stream",
     "text": [
      "[5, 10, 15, 20, 25, 30, 35, 40, 45, 50]\n"
     ]
    }
   ],
   "source": [
    "l101=[1, 2, 3, 4, 5, 6, 7, 8, 9, 10, 11, 12, 13, 14, 15, 16, 17, 18, 19, 20, 21, 22, 23, 24, 25, 26, 27, 28, 29, 30, 31, 32, 33, 34, 35, 36, 37, 38, 39, 40, 41, 42, 43, 44, 45, 46, 47, 48, 49, 50]\n",
    "b1 = list(filter(lambda x : x if x%5 == 0 else '', l101))\n",
    "print(b1)"
   ]
  },
  {
   "cell_type": "code",
   "execution_count": 129,
   "id": "5f8dad8a",
   "metadata": {},
   "outputs": [
    {
     "name": "stdout",
     "output_type": "stream",
     "text": [
      "['soap', 'sharp', 'ship', 'sheep']\n"
     ]
    }
   ],
   "source": [
    "l102 = ['soap','sharp','shy','silent','ship','summer','sheep']\n",
    "sp = list(filter(lambda x : x if (x[0] == 's' and x[-1] == 'p') else '', l102))\n",
    "\n",
    "print(sp)"
   ]
  },
  {
   "cell_type": "markdown",
   "id": "aaf226ff",
   "metadata": {},
   "source": [
    "## Class"
   ]
  },
  {
   "cell_type": "code",
   "execution_count": 130,
   "id": "bdf981b0",
   "metadata": {},
   "outputs": [],
   "source": [
    "class Employee :\n",
    "    company_code = \"EMZ\"\n",
    "    def __init__(self,age, name,eid):\n",
    "            self.age = age\n",
    "            self.name = name\n",
    "            self.eid = eid"
   ]
  },
  {
   "cell_type": "code",
   "execution_count": 131,
   "id": "45887169",
   "metadata": {},
   "outputs": [
    {
     "data": {
      "text/plain": [
       "__main__.Employee"
      ]
     },
     "execution_count": 131,
     "metadata": {},
     "output_type": "execute_result"
    }
   ],
   "source": [
    "E1 = Employee(24,'Ravi',101)\n",
    "type(E1)"
   ]
  },
  {
   "cell_type": "code",
   "execution_count": 132,
   "id": "6c684951",
   "metadata": {},
   "outputs": [
    {
     "name": "stdout",
     "output_type": "stream",
     "text": [
      "24\n"
     ]
    }
   ],
   "source": [
    "print(E1.age)"
   ]
  },
  {
   "cell_type": "code",
   "execution_count": 133,
   "id": "c8491ffc",
   "metadata": {},
   "outputs": [
    {
     "name": "stdout",
     "output_type": "stream",
     "text": [
      "Ravi 101\n"
     ]
    }
   ],
   "source": [
    "print(E1.name,E1.eid)"
   ]
  },
  {
   "cell_type": "code",
   "execution_count": 134,
   "id": "1cd5c1d5",
   "metadata": {},
   "outputs": [
    {
     "data": {
      "text/plain": [
       "'EMZ'"
      ]
     },
     "execution_count": 134,
     "metadata": {},
     "output_type": "execute_result"
    }
   ],
   "source": [
    "E1.company_code"
   ]
  },
  {
   "cell_type": "code",
   "execution_count": 135,
   "id": "3fd1ccf1",
   "metadata": {},
   "outputs": [
    {
     "data": {
      "text/plain": [
       "'XYZ'"
      ]
     },
     "execution_count": 135,
     "metadata": {},
     "output_type": "execute_result"
    }
   ],
   "source": [
    "# Changing company code\n",
    "Employee.company_code ='XYZ'\n",
    "E1.company_code"
   ]
  },
  {
   "cell_type": "code",
   "execution_count": 136,
   "id": "6949dfd2",
   "metadata": {},
   "outputs": [
    {
     "data": {
      "text/plain": [
       "'Virat'"
      ]
     },
     "execution_count": 136,
     "metadata": {},
     "output_type": "execute_result"
    }
   ],
   "source": [
    "# Changing Employee name\n",
    "E1.name ='Virat'\n",
    "E1.name"
   ]
  },
  {
   "cell_type": "code",
   "execution_count": 137,
   "id": "f3b6c89c",
   "metadata": {},
   "outputs": [],
   "source": [
    "class Student:\n",
    "    standard = 'IV'\n",
    "    def __init__(self,age,name,Cid):\n",
    "        self.age = age\n",
    "        self.name = name\n",
    "        self.id = Cid\n",
    "\n",
    "        \n",
    "student1 = Student(12,\"Raj\",24)\n",
    "student2 = Student(12,\"Sam\",10)\n",
    "student3 = Student(\"Shiv\",4, 3)\n"
   ]
  },
  {
   "cell_type": "code",
   "execution_count": 138,
   "id": "0ad983c2",
   "metadata": {},
   "outputs": [
    {
     "name": "stdout",
     "output_type": "stream",
     "text": [
      "Shiv\n"
     ]
    }
   ],
   "source": [
    "print(student3.age)"
   ]
  },
  {
   "cell_type": "markdown",
   "id": "5452dedd",
   "metadata": {},
   "source": [
    "## Methods"
   ]
  },
  {
   "cell_type": "code",
   "execution_count": 139,
   "id": "c27e298d",
   "metadata": {},
   "outputs": [],
   "source": [
    "class Employee :\n",
    "    company_code = \"EMZ\"\n",
    "    def __init__(self,age, name,eid):\n",
    "        self.age = age\n",
    "        self.name= name\n",
    "        self.eid = eid\n",
    "    def update(self):\n",
    "        self.age = self.age+1\n",
    "        return self.age "
   ]
  },
  {
   "cell_type": "code",
   "execution_count": 140,
   "id": "ef5ab413",
   "metadata": {},
   "outputs": [],
   "source": [
    "e1 = Employee(24,'Ravi',123)\n",
    "e2 = Employee(34,'Virat', 234)"
   ]
  },
  {
   "cell_type": "code",
   "execution_count": 141,
   "id": "fab83650",
   "metadata": {},
   "outputs": [
    {
     "name": "stdout",
     "output_type": "stream",
     "text": [
      "34\n"
     ]
    }
   ],
   "source": [
    "print(e2.age)"
   ]
  },
  {
   "cell_type": "code",
   "execution_count": 142,
   "id": "09afd49a",
   "metadata": {},
   "outputs": [
    {
     "name": "stdout",
     "output_type": "stream",
     "text": [
      "35\n"
     ]
    }
   ],
   "source": [
    "print(e2.update())"
   ]
  },
  {
   "cell_type": "code",
   "execution_count": 143,
   "id": "b518a6d6",
   "metadata": {},
   "outputs": [],
   "source": [
    "class Circle:\n",
    "    pi = 3.14\n",
    "    def __init__(self, radius):\n",
    "        self.radius = radius\n",
    "        \n",
    "    # instance method\n",
    "    def calculate_area(self):\n",
    "        return Circle.pi * self.radius**2\n",
    "    \n",
    "    # Class method\n",
    "    @classmethod\n",
    "    def access_pi(cls):\n",
    "        cls.pi = 3.1436\n",
    "        return cls.pi\n",
    "    \n",
    "    # Static Method\n",
    "    @staticmethod\n",
    "    def circle_static_method():\n",
    "        print(\"This is circle's static method\")\n",
    "        \n",
    "cir = Circle(5)\n"
   ]
  },
  {
   "cell_type": "code",
   "execution_count": 144,
   "id": "4a3dc342",
   "metadata": {},
   "outputs": [
    {
     "data": {
      "text/plain": [
       "78.5"
      ]
     },
     "execution_count": 144,
     "metadata": {},
     "output_type": "execute_result"
    }
   ],
   "source": [
    "cir.calculate_area()"
   ]
  },
  {
   "cell_type": "code",
   "execution_count": 145,
   "id": "3b43f5c1",
   "metadata": {},
   "outputs": [
    {
     "name": "stdout",
     "output_type": "stream",
     "text": [
      "3.14 3.14\n"
     ]
    }
   ],
   "source": [
    "print(Circle.pi, cir.pi)"
   ]
  },
  {
   "cell_type": "code",
   "execution_count": 146,
   "id": "5854652d",
   "metadata": {},
   "outputs": [
    {
     "data": {
      "text/plain": [
       "3.1436"
      ]
     },
     "execution_count": 146,
     "metadata": {},
     "output_type": "execute_result"
    }
   ],
   "source": [
    "# Once we access the class method the value of pi will change\n",
    "Circle.access_pi()"
   ]
  },
  {
   "cell_type": "code",
   "execution_count": 147,
   "id": "f5fb8f27",
   "metadata": {},
   "outputs": [
    {
     "name": "stdout",
     "output_type": "stream",
     "text": [
      "3.1436 3.1436\n"
     ]
    }
   ],
   "source": [
    "# calling the same command in last to last cell will give me different result\n",
    "print(Circle.pi, cir.pi)"
   ]
  },
  {
   "cell_type": "markdown",
   "id": "c674f662",
   "metadata": {},
   "source": [
    "## Class Inheritance and Overriding"
   ]
  },
  {
   "cell_type": "code",
   "execution_count": 148,
   "id": "f062dca3",
   "metadata": {},
   "outputs": [],
   "source": [
    "class Shape:\n",
    "    \n",
    "    def set_color(self, color):\n",
    "        self.color = color\n",
    "        \n",
    "    def calculate_area(self):\n",
    "        pass\n",
    "    \n",
    "    def color_the_shape(self):\n",
    "        color_price = {'red':10, 'blue':15, 'green':5}\n",
    "        return self.calculate_area() * color_price[self.color]"
   ]
  },
  {
   "cell_type": "code",
   "execution_count": 149,
   "id": "6e8c363d",
   "metadata": {},
   "outputs": [],
   "source": [
    "class Circle(Shape):\n",
    "    pi = 3.14\n",
    "    def __init__(self,radius):\n",
    "        self.radius = radius\n",
    "        \n",
    "    # overriding\n",
    "    def calculate_area(self):\n",
    "        return Circle.pi * self.radius"
   ]
  },
  {
   "cell_type": "code",
   "execution_count": 150,
   "id": "c76ce4f6",
   "metadata": {},
   "outputs": [
    {
     "name": "stdout",
     "output_type": "stream",
     "text": [
      "circle with radius= 5 when colored with red costs $ 157.0\n"
     ]
    }
   ],
   "source": [
    "c=Circle(5)\n",
    "c.set_color('red')\n",
    "print('circle with radius=',c.radius,'when colored with',c.color, 'costs $',c.color_the_shape())"
   ]
  },
  {
   "cell_type": "markdown",
   "id": "fe9e40df",
   "metadata": {},
   "source": [
    "## Quiz_1"
   ]
  },
  {
   "cell_type": "markdown",
   "id": "7b13eca8",
   "metadata": {},
   "source": [
    "In a school, there are total 100 students numbered from 1 to 100. You’re given three lists named ‘C’, ‘F’, and ‘H’, representing students who play cricket, football, and hockey, respectively. Based on this information, find out and print the following: \n",
    "- Students who play all the three sports\n",
    "- Students who play both cricket and football but don’t play hockey\n",
    "- Students who play exactly two of the sports\n",
    "- Students who don’t play any of the three sports"
   ]
  },
  {
   "cell_type": "code",
   "execution_count": 151,
   "id": "7a1be324",
   "metadata": {},
   "outputs": [],
   "source": [
    "C = [7, 8, 9, 18, 20, 21, 25, 26, 27, 31, 32, 34, 35, 36, 40, 43, 45, 47, 53, 58, 62, 67, 68, 71, 72, 74, 75, 76, 80, 81, 82, 90, 93, 95, 97, 99]\n",
    "F = [1, 7, 10, 13, 16, 22, 24, 29, 30, 32, 34, 39, 40, 43, 44, 48, 56, 60, 65, 68, 69, 73, 77, 78, 90, 93, 94, 95, 96]\n",
    "H = [5, 12, 14, 17, 20, 21, 22, 25, 28, 30, 37, 38, 39, 40, 42, 44, 57, 59, 61, 62, 67, 71, 75, 76, 77, 82, 83, 86, 87, 92, 94, 95]"
   ]
  },
  {
   "cell_type": "markdown",
   "id": "ed4bcf2c",
   "metadata": {},
   "source": [
    "#### Q1. Which are the students who play all the three sports?\n",
    "- [22, 39]\n",
    "- [39, 82]\n",
    "- [40, 95]\n",
    "- [82, 94]"
   ]
  },
  {
   "cell_type": "code",
   "execution_count": 152,
   "id": "4ad3980a",
   "metadata": {},
   "outputs": [
    {
     "data": {
      "text/plain": [
       "{40, 95}"
      ]
     },
     "execution_count": 152,
     "metadata": {},
     "output_type": "execute_result"
    }
   ],
   "source": [
    "set(set(C) & set(F)) & set(H)"
   ]
  },
  {
   "cell_type": "markdown",
   "id": "591c6fc4",
   "metadata": {},
   "source": [
    "#### Q2. Which are the players who play both cricket and hockey but don't play football?\n",
    "- [20, 21, 25, 62, 67, 71, 75, 76, 82]\n",
    "- [20, 21, 22, 25, 30, 32, 34]\n",
    "- [20, 21, 22, 25, 30, 32, 34, 39, 43, 44, 62]\n",
    "- [20, 21, 68, 71, 75, 76]"
   ]
  },
  {
   "cell_type": "code",
   "execution_count": 153,
   "id": "bda718a7",
   "metadata": {},
   "outputs": [
    {
     "data": {
      "text/plain": [
       "{20, 21, 25, 62, 67, 71, 75, 76, 82}"
      ]
     },
     "execution_count": 153,
     "metadata": {},
     "output_type": "execute_result"
    }
   ],
   "source": [
    "(set(C) & set(H)) - set(F)"
   ]
  },
  {
   "cell_type": "markdown",
   "id": "4e78ffb0",
   "metadata": {},
   "source": [
    "#### Q3. How many players play exactly two sports?\n",
    "- 19\n",
    "- 20\n",
    "- 21\n",
    "- 22"
   ]
  },
  {
   "cell_type": "code",
   "execution_count": 154,
   "id": "64006f29",
   "metadata": {},
   "outputs": [
    {
     "data": {
      "text/plain": [
       "22"
      ]
     },
     "execution_count": 154,
     "metadata": {},
     "output_type": "execute_result"
    }
   ],
   "source": [
    "len((set(C) & set(F)) | (set(H) & set(F)) | (set(C) & set(H))) - len(set(set(C) & set(F)) & set(H))"
   ]
  },
  {
   "cell_type": "markdown",
   "id": "33066c10",
   "metadata": {},
   "source": [
    "#### Q4. Which of these students do not play any of the sports? (More than one option may be correct)\n",
    "- 41\n",
    "- 48\n",
    "- 63\n",
    "- 85"
   ]
  },
  {
   "cell_type": "code",
   "execution_count": 155,
   "id": "12e236ee",
   "metadata": {},
   "outputs": [
    {
     "name": "stdout",
     "output_type": "stream",
     "text": [
      "41\n",
      "63\n",
      "85\n"
     ]
    }
   ],
   "source": [
    "students = [41,48,63,85]\n",
    "for i in students:\n",
    "    if i in F or i in C or i in H:\n",
    "        pass\n",
    "    else:\n",
    "        print(i)"
   ]
  },
  {
   "cell_type": "markdown",
   "id": "fd9390a2",
   "metadata": {},
   "source": [
    "## Quiz_2"
   ]
  },
  {
   "cell_type": "markdown",
   "id": "3458bb47",
   "metadata": {},
   "source": [
    "The `netflix` dictionary contains a list of 100 titles along with their total number of views in the past. Based on the keys and values provided in this dictionary, answer the questions given below."
   ]
  },
  {
   "cell_type": "code",
   "execution_count": 156,
   "id": "94f14ca3",
   "metadata": {},
   "outputs": [],
   "source": [
    "netflix = {'The Debt Collector': 1821195, 'Act of Vengeance': 2804479, 'Paradise Lost': 2195477, \"Gerald's Game\": 3650626, 'Long Shot': 638440, 'Mak Cun': 1010311, 'Our Souls at Night': 3028705, 'Out of Thin Air': 2681938, \"Paul Hollywood's Big Continental Road Trip\": 230689, 'Satu Hari': 1012350, 'Monster High: Boo York, Boo York': 1526025, 'Cultivating the Seas: History and Future of the Full-Cycle Cultured Kindai Tuna': 2762103, 'Domino': 872663, 'TUNA GIRL': 2574816, '5CM': 2647713, 'Animal World': 220789, 'Hold the Dark': 2307432, 'Lessons from a School Shooting: Notes from Dunblane': 2419534, 'Made in Mexico': 3653712, 'Single': 239278, 'The 3rd Eye': 196138, 'The Sinking Of Van Der Wijck': 2831856, 'Two Catalonias': 1337119, 'Bobby Sands: 66 Days': 2005623, 'Bard of Blood': 744998, 'Deliha 2': 3638900, 'Dragons: Rescue Riders': 3241239, 'In the Shadow of the Moon': 1213329, 'Skylines': 1840094, 'Sturgill Simpson Presents Sound & Fury': 1915540, 'The Politician': 1019394, 'Weeds on Fire': 2273090, 'Much Loved': 3039852, 'Joseph: King of Dreams': 1734449, 'Malaal': 1926128, 'The Grandmaster': 2549410, 'The Inmate': 130965, 'The Hurricane Heist': 2191538, 'Def Comedy Jam 25': 1392697, 'Restless Creature: Wendy Whelan': 2474412, 'Print the Legend': 548250, 'Birders': 3478883, 'Furie': 2755115, 'Leap!': 1401638, 'Oh! Baby (Malayalam)': 839139, 'Oh! Baby (Tamil)': 2691505, 'USS Indianapolis: Men of Courage': 3286014, 'A Wrinkle in Time': 1258861, 'Teach Us All': 2428947, 'White Island': 1152905, 'Inside Man: Most Wanted': 2812661, 'Jeff Dunham: Beside Himself': 2930368, 'China Salesman': 3377292, 'Swearnet: The Movie': 949689, 'The Bar': 620655, 'Manmadhudu 2': 1842761, 'Team Kaylie': 359856, 'Under the Eiffel Tower': 2298237, 'Audrie & Daisy': 1573055, 'Iliza Shlesinger: Confirmed Kills': 365220, 'BONDING': 1664242, 'Do Paise Ki Dhoop Chaar Aane Ki Baarish': 2770879, '20 Feet From Stardom': 2931730, 'In Darkness': 3248749, 'Gaga: Five Foot Two': 3719550, 'The Bad Batch': 3656264, 'SMOSH: The Movie': 3697506, 'King of Boys': 584112, 'Merry Men: The Real Yoruba Demons': 2035595, \"Sarah's Key\": 1337902, 'The Wedding Party 2: Destination Dubai': 1471204, 'Vagabond': 1600432, 'Battlefish': 723021, 'DRAGON PILOT: Hisone & Masotan': 602919, 'Hilda': 54948, 'Maniac': 1348196, 'Quincy': 2601704, 'Rafinha Bastos: Ultimatum': 3469996, 'The Good Cop': 2265521, 'Between Two Ferns: The Movie': 3146508, 'Criminal: France': 2021409, 'Criminal: Germany': 658824, 'Criminal: Spain': 3078634, 'Criminal: UK': 2721398, 'Daddy Issues': 2119035, \"Inside Bill's Brain: Decoding Bill Gates\": 1755104, 'The Hockey Girls': 2000507, 'Travel Mates 2': 707260, 'True: Tricky Treat Day': 3213199, 'Two Sentence Horror Stories': 2438329, 'Mad World': 2281773, 'Mobile Suit Gundam UC': 778879, 'The Bund': 1729892, 'The First Line': 674591, 'Maynard': 84986, 'Monkey Twins': 3277179, 'Bitcoin Heist': 1450158, 'I Am Not Madame Bovary': 2763830, 'Vincent N Roxxy': 1961810, \"Chef's Table: France\": 2065738}"
   ]
  },
  {
   "cell_type": "markdown",
   "id": "faede8ef",
   "metadata": {},
   "source": [
    "#### Q1. There's an Indian movie in the dictionary named `Do Paise Ki Dhoop Chaar Aane Ki Baarish`. What is the number of views for this movie?\n",
    "- 90,854\n",
    "- 658,824\n",
    "- 1,023,597\n",
    "- 2,770,879"
   ]
  },
  {
   "cell_type": "code",
   "execution_count": 157,
   "id": "4f92810c",
   "metadata": {},
   "outputs": [
    {
     "data": {
      "text/plain": [
       "2770879"
      ]
     },
     "execution_count": 157,
     "metadata": {},
     "output_type": "execute_result"
    }
   ],
   "source": [
    "netflix['Do Paise Ki Dhoop Chaar Aane Ki Baarish']"
   ]
  },
  {
   "cell_type": "markdown",
   "id": "92123868",
   "metadata": {},
   "source": [
    "#### Q2. Which of the shows is the most and least popular in terms of number of views? </br> \n",
    "(Hint: Use the `key` argument in the max() and min() functions.)\n",
    "- Monkey Twins, Maynard\n",
    "- Gaga: Five Foot Two, Hilda\n",
    "- Gerald's Game, White Island\n",
    "- Rafinha Bastos: Ultimatum, The First Line"
   ]
  },
  {
   "cell_type": "code",
   "execution_count": 158,
   "id": "11fee1d2",
   "metadata": {},
   "outputs": [
    {
     "name": "stdout",
     "output_type": "stream",
     "text": [
      "Gaga: Five Foot Two\n",
      "Hilda\n"
     ]
    }
   ],
   "source": [
    "print(max(netflix, key=netflix.get))\n",
    "\n",
    "print(min(netflix, key=netflix.get))\n"
   ]
  },
  {
   "cell_type": "code",
   "execution_count": 159,
   "id": "69a7a43e",
   "metadata": {},
   "outputs": [
    {
     "name": "stdout",
     "output_type": "stream",
     "text": [
      "('Gaga: Five Foot Two', 3719550)\n",
      "('Hilda', 54948)\n"
     ]
    }
   ],
   "source": [
    "print(max(netflix.items(), key=lambda x: x[1]))\n",
    "print(min(netflix.items(), key=lambda x: x[1]))"
   ]
  },
  {
   "cell_type": "markdown",
   "id": "cee0ffe2",
   "metadata": {},
   "source": [
    "Netflix has just recieved the number of views for the last week as well. This data is given below, in the form of a dictionary"
   ]
  },
  {
   "cell_type": "code",
   "execution_count": 160,
   "id": "43e68b31",
   "metadata": {},
   "outputs": [],
   "source": [
    "netflix_last_week = {'The Debt Collector': 229218, 'Act of Vengeance': 191468, 'Paradise Lost': 167846, \"Gerald's Game\": 113298, 'Long Shot': 15190, 'Mak Cun': 244581, 'Our Souls at Night': 188095, 'Out of Thin Air': 183961, \"Paul Hollywood's Big Continental Road Trip\": 207967, 'Satu Hari': 226211, 'Monster High: Boo York, Boo York': 265919, 'Cultivating the Seas: History and Future of the Full-Cycle Cultured Kindai Tuna': 192246, 'Domino': 190538, 'TUNA GIRL': 301819, '5CM': 154371, 'Animal World': 228227, 'Hold the Dark': 222938, 'Lessons from a School Shooting: Notes from Dunblane': 256580, 'Made in Mexico': 199790, 'Single': 155517, 'The 3rd Eye': 251349, 'The Sinking Of Van Der Wijck': 153797, 'Two Catalonias': 189422, 'Bobby Sands: 66 Days': 202461, 'Bard of Blood': 241928, 'Deliha 2': 304552, 'Dragons: Rescue Riders': 155149, 'In the Shadow of the Moon': 222999, 'Skylines': 118737, 'Sturgill Simpson Presents Sound & Fury': 43590, 'The Politician': 11902, 'Weeds on Fire': 243382, 'Much Loved': 190123, 'Joseph: King of Dreams': 46104, 'Malaal': 70961, 'The Grandmaster': 44908, 'The Inmate': 19574, 'The Hurricane Heist': 167696, 'Def Comedy Jam 25': 208075, 'Restless Creature: Wendy Whelan': 22976, 'Print the Legend': 161584, 'Birders': 257668, 'Furie': 282266, 'Leap!': 124338, 'Oh! Baby (Malayalam)': 18203, 'Oh! Baby (Tamil)': 131481, 'USS Indianapolis: Men of Courage': 76558, 'A Wrinkle in Time': 169365, 'Teach Us All': 50378, 'White Island': 299779, 'Inside Man: Most Wanted': 123346, 'Jeff Dunham: Beside Himself': 283561, 'China Salesman': 182041, 'Swearnet: The Movie': 63809, 'The Bar': 41243, 'Manmadhudu 2': 261349, 'Team Kaylie': 101283, 'Under the Eiffel Tower': 83650, 'Audrie & Daisy': 106092, 'Iliza Shlesinger: Confirmed Kills': 255103, 'BONDING': 202683, 'Do Paise Ki Dhoop Chaar Aane Ki Baarish': 32329, '20 Feet From Stardom': 165178, 'In Darkness': 95259, 'Gaga: Five Foot Two': 36638, 'The Bad Batch': 197820, 'SMOSH: The Movie': 196519, 'King of Boys': 49332, 'Merry Men: The Real Yoruba Demons': 293229, \"Sarah's Key\": 178523, 'The Wedding Party 2: Destination Dubai': 51211, 'Vagabond': 116831, 'Battlefish': 5448, 'DRAGON PILOT: Hisone & Masotan': 281873, 'Hilda': 21348, 'Maniac': 268187, 'Quincy': 139696, 'Rafinha Bastos: Ultimatum': 105449, 'The Good Cop': 73230, 'Between Two Ferns: The Movie': 135600, 'Criminal: France': 243469, 'Criminal: Germany': 285211, 'Criminal: Spain': 45184, 'Criminal: UK': 117056, 'Daddy Issues': 267329, \"Inside Bill's Brain: Decoding Bill Gates\": 64083, 'The Hockey Girls': 114146, 'Travel Mates 2': 21088, 'True: Tricky Treat Day': 116504, 'Two Sentence Horror Stories': 274471, 'Mad World': 225244, 'Mobile Suit Gundam UC': 47306, 'The Bund': 146872, 'The First Line': 148861, 'Maynard': 87252, 'Monkey Twins': 199274, 'Bitcoin Heist': 41105, 'I Am Not Madame Bovary': 57841, 'Vincent N Roxxy': 207453, \"Chef's Table: France\": 200536}"
   ]
  },
  {
   "cell_type": "markdown",
   "id": "bb8cf670",
   "metadata": {},
   "source": [
    "#### Q3. Netflix has just recieved the number of views for the last week as well. Add these views to the total views and find the most popular title in terms of views. Also find out how many views this title has? \n",
    "- Title: Deliha 2, Views: 3943452\n",
    "- Title: Dragons: Rescue Riders, Views: 3996388\n",
    "- Title: Rafinha Bastos: Ultimatum, Views: 3575445\n",
    "- Title: Gaga: Five Foot Two, Views: 3756188"
   ]
  },
  {
   "cell_type": "code",
   "execution_count": 161,
   "id": "55440f7b",
   "metadata": {},
   "outputs": [],
   "source": [
    "for key in netflix:\n",
    "    if key in netflix_last_week:\n",
    "        netflix[key] = netflix_last_week[key] + netflix[key]"
   ]
  },
  {
   "cell_type": "code",
   "execution_count": 162,
   "id": "26ae563e",
   "metadata": {},
   "outputs": [
    {
     "data": {
      "text/plain": [
       "{'The Debt Collector': 2050413,\n",
       " 'Act of Vengeance': 2995947,\n",
       " 'Paradise Lost': 2363323,\n",
       " \"Gerald's Game\": 3763924,\n",
       " 'Long Shot': 653630,\n",
       " 'Mak Cun': 1254892,\n",
       " 'Our Souls at Night': 3216800,\n",
       " 'Out of Thin Air': 2865899,\n",
       " \"Paul Hollywood's Big Continental Road Trip\": 438656,\n",
       " 'Satu Hari': 1238561,\n",
       " 'Monster High: Boo York, Boo York': 1791944,\n",
       " 'Cultivating the Seas: History and Future of the Full-Cycle Cultured Kindai Tuna': 2954349,\n",
       " 'Domino': 1063201,\n",
       " 'TUNA GIRL': 2876635,\n",
       " '5CM': 2802084,\n",
       " 'Animal World': 449016,\n",
       " 'Hold the Dark': 2530370,\n",
       " 'Lessons from a School Shooting: Notes from Dunblane': 2676114,\n",
       " 'Made in Mexico': 3853502,\n",
       " 'Single': 394795,\n",
       " 'The 3rd Eye': 447487,\n",
       " 'The Sinking Of Van Der Wijck': 2985653,\n",
       " 'Two Catalonias': 1526541,\n",
       " 'Bobby Sands: 66 Days': 2208084,\n",
       " 'Bard of Blood': 986926,\n",
       " 'Deliha 2': 3943452,\n",
       " 'Dragons: Rescue Riders': 3396388,\n",
       " 'In the Shadow of the Moon': 1436328,\n",
       " 'Skylines': 1958831,\n",
       " 'Sturgill Simpson Presents Sound & Fury': 1959130,\n",
       " 'The Politician': 1031296,\n",
       " 'Weeds on Fire': 2516472,\n",
       " 'Much Loved': 3229975,\n",
       " 'Joseph: King of Dreams': 1780553,\n",
       " 'Malaal': 1997089,\n",
       " 'The Grandmaster': 2594318,\n",
       " 'The Inmate': 150539,\n",
       " 'The Hurricane Heist': 2359234,\n",
       " 'Def Comedy Jam 25': 1600772,\n",
       " 'Restless Creature: Wendy Whelan': 2497388,\n",
       " 'Print the Legend': 709834,\n",
       " 'Birders': 3736551,\n",
       " 'Furie': 3037381,\n",
       " 'Leap!': 1525976,\n",
       " 'Oh! Baby (Malayalam)': 857342,\n",
       " 'Oh! Baby (Tamil)': 2822986,\n",
       " 'USS Indianapolis: Men of Courage': 3362572,\n",
       " 'A Wrinkle in Time': 1428226,\n",
       " 'Teach Us All': 2479325,\n",
       " 'White Island': 1452684,\n",
       " 'Inside Man: Most Wanted': 2936007,\n",
       " 'Jeff Dunham: Beside Himself': 3213929,\n",
       " 'China Salesman': 3559333,\n",
       " 'Swearnet: The Movie': 1013498,\n",
       " 'The Bar': 661898,\n",
       " 'Manmadhudu 2': 2104110,\n",
       " 'Team Kaylie': 461139,\n",
       " 'Under the Eiffel Tower': 2381887,\n",
       " 'Audrie & Daisy': 1679147,\n",
       " 'Iliza Shlesinger: Confirmed Kills': 620323,\n",
       " 'BONDING': 1866925,\n",
       " 'Do Paise Ki Dhoop Chaar Aane Ki Baarish': 2803208,\n",
       " '20 Feet From Stardom': 3096908,\n",
       " 'In Darkness': 3344008,\n",
       " 'Gaga: Five Foot Two': 3756188,\n",
       " 'The Bad Batch': 3854084,\n",
       " 'SMOSH: The Movie': 3894025,\n",
       " 'King of Boys': 633444,\n",
       " 'Merry Men: The Real Yoruba Demons': 2328824,\n",
       " \"Sarah's Key\": 1516425,\n",
       " 'The Wedding Party 2: Destination Dubai': 1522415,\n",
       " 'Vagabond': 1717263,\n",
       " 'Battlefish': 728469,\n",
       " 'DRAGON PILOT: Hisone & Masotan': 884792,\n",
       " 'Hilda': 76296,\n",
       " 'Maniac': 1616383,\n",
       " 'Quincy': 2741400,\n",
       " 'Rafinha Bastos: Ultimatum': 3575445,\n",
       " 'The Good Cop': 2338751,\n",
       " 'Between Two Ferns: The Movie': 3282108,\n",
       " 'Criminal: France': 2264878,\n",
       " 'Criminal: Germany': 944035,\n",
       " 'Criminal: Spain': 3123818,\n",
       " 'Criminal: UK': 2838454,\n",
       " 'Daddy Issues': 2386364,\n",
       " \"Inside Bill's Brain: Decoding Bill Gates\": 1819187,\n",
       " 'The Hockey Girls': 2114653,\n",
       " 'Travel Mates 2': 728348,\n",
       " 'True: Tricky Treat Day': 3329703,\n",
       " 'Two Sentence Horror Stories': 2712800,\n",
       " 'Mad World': 2507017,\n",
       " 'Mobile Suit Gundam UC': 826185,\n",
       " 'The Bund': 1876764,\n",
       " 'The First Line': 823452,\n",
       " 'Maynard': 172238,\n",
       " 'Monkey Twins': 3476453,\n",
       " 'Bitcoin Heist': 1491263,\n",
       " 'I Am Not Madame Bovary': 2821671,\n",
       " 'Vincent N Roxxy': 2169263,\n",
       " \"Chef's Table: France\": 2266274}"
      ]
     },
     "execution_count": 162,
     "metadata": {},
     "output_type": "execute_result"
    }
   ],
   "source": [
    "netflix"
   ]
  },
  {
   "cell_type": "code",
   "execution_count": 163,
   "id": "931df135",
   "metadata": {},
   "outputs": [
    {
     "name": "stdout",
     "output_type": "stream",
     "text": [
      "('Deliha 2', 3943452)\n"
     ]
    }
   ],
   "source": [
    "print(max(netflix.items(), key=lambda x: x[1]))"
   ]
  },
  {
   "cell_type": "code",
   "execution_count": null,
   "id": "3ea9af33",
   "metadata": {},
   "outputs": [],
   "source": []
  },
  {
   "cell_type": "code",
   "execution_count": null,
   "id": "4144b41f",
   "metadata": {},
   "outputs": [],
   "source": []
  },
  {
   "cell_type": "code",
   "execution_count": null,
   "id": "59b60d00",
   "metadata": {},
   "outputs": [],
   "source": []
  },
  {
   "cell_type": "code",
   "execution_count": null,
   "id": "0534baeb",
   "metadata": {},
   "outputs": [],
   "source": []
  },
  {
   "cell_type": "code",
   "execution_count": null,
   "id": "27a1aa08",
   "metadata": {},
   "outputs": [],
   "source": []
  },
  {
   "cell_type": "code",
   "execution_count": null,
   "id": "79a62644",
   "metadata": {},
   "outputs": [],
   "source": []
  }
 ],
 "metadata": {
  "kernelspec": {
   "display_name": "Python 3 (ipykernel)",
   "language": "python",
   "name": "python3"
  },
  "language_info": {
   "codemirror_mode": {
    "name": "ipython",
    "version": 3
   },
   "file_extension": ".py",
   "mimetype": "text/x-python",
   "name": "python",
   "nbconvert_exporter": "python",
   "pygments_lexer": "ipython3",
   "version": "3.11.3"
  }
 },
 "nbformat": 4,
 "nbformat_minor": 5
}
