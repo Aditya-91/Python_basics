{
 "cells": [
  {
   "cell_type": "markdown",
   "id": "66609a3d",
   "metadata": {},
   "source": [
    "## Factorial"
   ]
  },
  {
   "cell_type": "code",
   "execution_count": 1,
   "id": "4815de87",
   "metadata": {},
   "outputs": [
    {
     "name": "stdout",
     "output_type": "stream",
     "text": [
      "120\n"
     ]
    }
   ],
   "source": [
    "n = 5\n",
    "\n",
    "n1=1\n",
    "\n",
    "for i in range(1,n+1):\n",
    "    n1=n1*i\n",
    "\n",
    "print(n1)"
   ]
  },
  {
   "cell_type": "code",
   "execution_count": 2,
   "id": "b2a23ba1",
   "metadata": {},
   "outputs": [
    {
     "name": "stdout",
     "output_type": "stream",
     "text": [
      "120\n"
     ]
    }
   ],
   "source": [
    "from functools import reduce\n",
    "x = reduce(lambda x,y:x*y , range(1,n+1))\n",
    "print(x)"
   ]
  },
  {
   "cell_type": "markdown",
   "id": "00f7b39b",
   "metadata": {},
   "source": [
    "## Reverse the digits"
   ]
  },
  {
   "cell_type": "code",
   "execution_count": 3,
   "id": "05f7772f",
   "metadata": {},
   "outputs": [
    {
     "data": {
      "text/plain": [
       "21342"
      ]
     },
     "execution_count": 3,
     "metadata": {},
     "output_type": "execute_result"
    }
   ],
   "source": [
    "x = 24312\n",
    "y=str(x)\n",
    "x= int(y[::-1])\n",
    "x"
   ]
  },
  {
   "cell_type": "markdown",
   "id": "7d1b2661",
   "metadata": {},
   "source": [
    "#### Sanjay loves chocolates. He goes to a shop to buy his favourite chocolate. There he notices there is an offer going on, upon bringing 3 wrappers of the same chocolate, you will get new chocolate for free. If Sanjay has m Rupees. How many chocolates will he be able to eat if each chocolate costs c Rupees?"
   ]
  },
  {
   "cell_type": "code",
   "execution_count": 4,
   "id": "1ee6e086",
   "metadata": {},
   "outputs": [
    {
     "name": "stdout",
     "output_type": "stream",
     "text": [
      "10\n"
     ]
    }
   ],
   "source": [
    "m = 15\n",
    "c = 2\n",
    "\n",
    "choc = m//c\n",
    "w = m//c\n",
    "\n",
    "while w//3!=0:\n",
    "    choc = choc + w//3\n",
    "    w = w//3 + w%3\n",
    "    \n",
    "print(choc)    "
   ]
  },
  {
   "cell_type": "code",
   "execution_count": 5,
   "id": "faea5028",
   "metadata": {},
   "outputs": [
    {
     "name": "stdout",
     "output_type": "stream",
     "text": [
      "         *\n",
      "        *_*\n",
      "       *_*_*\n",
      "      *_*_*_*\n",
      "     *_*_*_*_*\n",
      "    *_*_*_*_*_*\n",
      "   *_*_*_*_*_*_*\n",
      "  *_*_*_*_*_*_*_*\n",
      " *_*_*_*_*_*_*_*_*\n",
      "*_*_*_*_*_*_*_*_*_*\n"
     ]
    }
   ],
   "source": [
    "n = 10\n",
    "for i in range (1,n+1):\n",
    "    print(' '*(n-i)+'*'+'_*'*(i-1))"
   ]
  },
  {
   "cell_type": "markdown",
   "id": "c3a86b46",
   "metadata": {},
   "source": [
    "## Armstrong Number"
   ]
  },
  {
   "cell_type": "code",
   "execution_count": 6,
   "id": "760d8b69",
   "metadata": {},
   "outputs": [
    {
     "name": "stdout",
     "output_type": "stream",
     "text": [
      "True\n"
     ]
    }
   ],
   "source": [
    "n=153\n",
    "\n",
    "k=0\n",
    "\n",
    "for i in str(n):\n",
    "    k += int(i)**len(str(n))\n",
    "\n",
    "if k == n:\n",
    "    print('True')\n",
    "else:\n",
    "    print('False')"
   ]
  },
  {
   "cell_type": "markdown",
   "id": "7601a717",
   "metadata": {},
   "source": [
    "## Fibonacci series"
   ]
  },
  {
   "cell_type": "code",
   "execution_count": 7,
   "id": "e058f3ac",
   "metadata": {},
   "outputs": [
    {
     "name": "stdout",
     "output_type": "stream",
     "text": [
      "0\n",
      "1\n",
      "1\n",
      "2\n",
      "3\n"
     ]
    }
   ],
   "source": [
    "n = 5\n",
    "\n",
    "secondLast=0\n",
    "last=1\n",
    "if n>0:\n",
    "    print(secondLast)\n",
    "if n>1:\n",
    "    print(last)\n",
    "for i in range(3,n+1):\n",
    "    nextNumber=last+secondLast\n",
    "    print(nextNumber)\n",
    "    secondLast=last\n",
    "    last=nextNumber "
   ]
  },
  {
   "cell_type": "code",
   "execution_count": 8,
   "id": "48aa67c6",
   "metadata": {},
   "outputs": [
    {
     "name": "stdout",
     "output_type": "stream",
     "text": [
      "2\n"
     ]
    }
   ],
   "source": [
    "# function returns the (n+1)th Fibonacci Number \n",
    "def Unknown_func(n):\n",
    "    if n <= 1:\n",
    "        return(n)\n",
    "    else:\n",
    "        return (Unknown_func(n-1) + Unknown_func(n-2))\n",
    "    \n",
    "print(Unknown_func(3))"
   ]
  },
  {
   "cell_type": "markdown",
   "id": "4fd64a66",
   "metadata": {},
   "source": [
    "# Sum of Primes"
   ]
  },
  {
   "cell_type": "code",
   "execution_count": 9,
   "id": "535747bc",
   "metadata": {},
   "outputs": [
    {
     "name": "stdout",
     "output_type": "stream",
     "text": [
      "17\n"
     ]
    }
   ],
   "source": [
    "n=10\n",
    "\n",
    "total = 2\n",
    "\n",
    "for num in range(2, n + 1):\n",
    "\n",
    "    i = 2\n",
    "    \n",
    "    for i in range(2, num):\n",
    "        if (int(num % i) == 0):\n",
    "            i = num\n",
    "            break;\n",
    "\n",
    "    if i is not num:\n",
    "        total += num\n",
    "\n",
    "print(total)"
   ]
  },
  {
   "cell_type": "code",
   "execution_count": 10,
   "id": "4dc3532d",
   "metadata": {},
   "outputs": [
    {
     "data": {
      "text/plain": [
       "-3"
      ]
     },
     "execution_count": 10,
     "metadata": {},
     "output_type": "execute_result"
    }
   ],
   "source": [
    "l1 = [2, -3, 0, 7, 21]\n",
    "min(l1)"
   ]
  },
  {
   "cell_type": "code",
   "execution_count": 11,
   "id": "994f0e84",
   "metadata": {},
   "outputs": [
    {
     "data": {
      "text/plain": [
       "5.4"
      ]
     },
     "execution_count": 11,
     "metadata": {},
     "output_type": "execute_result"
    }
   ],
   "source": [
    "Average = 1.0*sum(l1)/len(l1)\n",
    "Average"
   ]
  },
  {
   "cell_type": "code",
   "execution_count": 12,
   "id": "9b8a2d21",
   "metadata": {},
   "outputs": [
    {
     "name": "stdout",
     "output_type": "stream",
     "text": [
      "[1, 1, 1, 1, 1, 1]\n",
      "[1, 0, 0, 0, 0, 1]\n",
      "[1, 0, 0, 0, 0, 1]\n",
      "[1, 0, 0, 0, 0, 1]\n",
      "[1, 1, 1, 1, 1, 1]\n"
     ]
    }
   ],
   "source": [
    "m=5\n",
    "n=6\n",
    "\n",
    "print(list([1]*n))\n",
    "for i in range(1,m-1):\n",
    "    a = [1]\n",
    "    b = [0]*(n-2)\n",
    "    c = [1]\n",
    "    a.extend(b)\n",
    "    a.extend(c)\n",
    "    print(a)\n",
    "print(list([1]*n))"
   ]
  },
  {
   "cell_type": "markdown",
   "id": "716d147a",
   "metadata": {},
   "source": [
    "## Pascal's Triangle"
   ]
  },
  {
   "cell_type": "code",
   "execution_count": 13,
   "id": "3fbbd6c9",
   "metadata": {},
   "outputs": [
    {
     "name": "stdout",
     "output_type": "stream",
     "text": [
      "[1, 6, 15, 20, 15, 6, 1]\n"
     ]
    }
   ],
   "source": [
    "def pascaline(n):\n",
    "     n -= 1\n",
    "     line = [1]\n",
    "     for k in range(max(n,0)):             \n",
    "         line.append(line[k]*(n-k)//(k+1))             \n",
    "     return line\n",
    "\n",
    "\n",
    "print(pascaline(7))"
   ]
  },
  {
   "cell_type": "code",
   "execution_count": 14,
   "id": "15ff17ad",
   "metadata": {},
   "outputs": [
    {
     "name": "stdout",
     "output_type": "stream",
     "text": [
      "[1, 2, 3]\n",
      "[4, 5, 6]\n",
      "[7, 8, 9]\n"
     ]
    }
   ],
   "source": [
    "# Write a Python program to divide a given list into chunks of size k.\n",
    "l3 = [1,2,3,4,5,6,7,8,9]\n",
    "n = 3\n",
    "m=3\n",
    "i=0\n",
    "while i <= len(l3)-1:\n",
    "    print(l3[i:m])\n",
    "    i = i+n\n",
    "    m = m+3"
   ]
  },
  {
   "cell_type": "code",
   "execution_count": 15,
   "id": "ac517fed",
   "metadata": {},
   "outputs": [
    {
     "name": "stdout",
     "output_type": "stream",
     "text": [
      "8\n"
     ]
    }
   ],
   "source": [
    "# Second Maximum Number in a List\n",
    "l4 = [1,2,3,4,5,6,7,8,9]\n",
    "input_list = [val for val in l4 if val != max(l4)]\n",
    "print(sorted(input_list)[-1])"
   ]
  },
  {
   "cell_type": "markdown",
   "id": "5c9450a9",
   "metadata": {},
   "source": [
    "### Palindrome String"
   ]
  },
  {
   "cell_type": "code",
   "execution_count": 16,
   "id": "fe7103d0",
   "metadata": {},
   "outputs": [
    {
     "name": "stdout",
     "output_type": "stream",
     "text": [
      "1\n"
     ]
    }
   ],
   "source": [
    "s = 'HANnah'\n",
    "s = s.lower()\n",
    "if s[:]==s[::-1]:\n",
    "    print(1)\n",
    "else:\n",
    "    print(0)"
   ]
  },
  {
   "cell_type": "code",
   "execution_count": 17,
   "id": "30bca913",
   "metadata": {},
   "outputs": [
    {
     "name": "stdout",
     "output_type": "stream",
     "text": [
      "fun and easy super is python\n"
     ]
    }
   ],
   "source": [
    "# reverse the words of a sentence\n",
    "sentence = 'python is super easy and fun'\n",
    "s = list(sentence.split(\" \"))\n",
    "s.reverse()\n",
    "\n",
    "final = \" \".join(s)\n",
    "print(final)\n"
   ]
  },
  {
   "cell_type": "code",
   "execution_count": 18,
   "id": "9fda8691",
   "metadata": {},
   "outputs": [
    {
     "data": {
      "text/plain": [
       "'Calorie_Consumed'"
      ]
     },
     "execution_count": 18,
     "metadata": {},
     "output_type": "execute_result"
    }
   ],
   "source": [
    "# no Spaces\n",
    "s1 = 'caloRie consuMed'\n",
    "s1 = s1.title()\n",
    "s = s1.split(\" \")\n",
    "s = \"_\".join(s)\n",
    "s"
   ]
  },
  {
   "cell_type": "code",
   "execution_count": 19,
   "id": "e41b8be9",
   "metadata": {},
   "outputs": [
    {
     "name": "stdout",
     "output_type": "stream",
     "text": [
      "oaiprgrmmng\n"
     ]
    }
   ],
   "source": [
    "# Vowels shifted to the beginning in the input string\n",
    "s1 = 'programming'\n",
    "vov = (\"\").join([i for i in s1[:] if i in 'aeiouAEIOU'])\n",
    "con = (\"\").join([i for i in s1[:] if i not in 'aeiouAEIOU'])\n",
    "print(vov+con)"
   ]
  },
  {
   "cell_type": "code",
   "execution_count": 20,
   "id": "668aa349",
   "metadata": {},
   "outputs": [
    {
     "name": "stdout",
     "output_type": "stream",
     "text": [
      "absh\n"
     ]
    }
   ],
   "source": [
    "# The common largest prefix for both strings\n",
    "x = 'abshiehand'\n",
    "y = 'abshdksajd'\n",
    "min_len = min(len(x),len(y))\n",
    "\n",
    "for i in range(min_len):\n",
    "    if x[i]!=y[i]:\n",
    "        break\n",
    "if i==0:\n",
    "    print(-1)\n",
    "else:\n",
    "    print(x[:i])"
   ]
  },
  {
   "cell_type": "code",
   "execution_count": 21,
   "id": "4d0c7506",
   "metadata": {},
   "outputs": [
    {
     "name": "stdout",
     "output_type": "stream",
     "text": [
      "True\n"
     ]
    }
   ],
   "source": [
    "# True or False based on whether the strings are anagrams or not\n",
    "s1 = 'thing'\n",
    "s2 = 'night'\n",
    "def anagram(s1,s2):\n",
    "    if len(s1)!=len(s2):\n",
    "        return False\n",
    "    for i in range(len(s1)):\n",
    "        if s1.count(s1[i])!=s2.count(s1[i]):\n",
    "            return False\n",
    "    return True\n",
    "        \n",
    "print(anagram(s1,s2))"
   ]
  },
  {
   "cell_type": "code",
   "execution_count": 22,
   "id": "810ce55e",
   "metadata": {},
   "outputs": [
    {
     "name": "stdout",
     "output_type": "stream",
     "text": [
      "STR\n"
     ]
    }
   ],
   "source": [
    "x = '2654321f68453s'\n",
    "for i in x:\n",
    "    if i.isnumeric():\n",
    "        y=True\n",
    "    else:\n",
    "        y=False\n",
    "        break\n",
    "        \n",
    "if y:\n",
    "    print('INT')\n",
    "else:\n",
    "    print('STR')"
   ]
  },
  {
   "cell_type": "code",
   "execution_count": 23,
   "id": "b7c20f40",
   "metadata": {},
   "outputs": [
    {
     "name": "stdout",
     "output_type": "stream",
     "text": [
      "upGrad\n"
     ]
    }
   ],
   "source": [
    "# password puzzle\n",
    "password = 'ytKveh'\n",
    "step = 4\n",
    "\n",
    "# output = 'upGrad'\n",
    "\n",
    "real_pass = ''\n",
    "lower=[chr(i) for i in range(ord('a'), ord('z')+1)]\n",
    "upper=[chr(i) for i in range(ord('A'), ord('Z')+1)]\n",
    "for i in password:\n",
    "    if i in lower:\n",
    "        char_num=lower.index(i)\n",
    "        char_num=(char_num-step)%26\n",
    "        real_pass=real_pass+lower[char_num]\n",
    "    else: \n",
    "        char_num=upper.index(i)\n",
    "        char_num=(char_num-step+26)%26\n",
    "        real_pass=real_pass+upper[char_num]\n",
    "\n",
    "        \n",
    "print(real_pass)        "
   ]
  },
  {
   "cell_type": "code",
   "execution_count": 24,
   "id": "6acb9002",
   "metadata": {},
   "outputs": [
    {
     "name": "stdout",
     "output_type": "stream",
     "text": [
      "[5, 55, 555, 5555, 55555] total = 61725\n"
     ]
    }
   ],
   "source": [
    "# A weird sum\n",
    "\n",
    "n = 5\n",
    "l = []\n",
    "for i in range(1,n+1):\n",
    "    l.append(int(str(n)*i))\n",
    "\n",
    "print(l,\"total =\",sum(l))\n",
    "    "
   ]
  },
  {
   "cell_type": "code",
   "execution_count": 25,
   "id": "08a8c3a8",
   "metadata": {},
   "outputs": [
    {
     "data": {
      "text/plain": [
       "[8, 9, 2, 3, 4, 5]"
      ]
     },
     "execution_count": 25,
     "metadata": {},
     "output_type": "execute_result"
    }
   ],
   "source": [
    "my_list = [8, 9, 2, 2, 3, 4, 5, 2]\n",
    "d=[]\n",
    "for item in my_list:\n",
    "    if item not in d:\n",
    "        d.append(item)\n",
    "        \n",
    "d        "
   ]
  },
  {
   "cell_type": "code",
   "execution_count": 26,
   "id": "34d2cf10",
   "metadata": {},
   "outputs": [
    {
     "name": "stdout",
     "output_type": "stream",
     "text": [
      "mobile4\n",
      "('mobile4', 9000)\n"
     ]
    }
   ],
   "source": [
    "# lowest priced item\n",
    "\n",
    "item_prices = {'mobile1':10000, 'mobile2':11000, 'mobile3':13000, 'mobile4':9000, 'mobile5':15000, 'mobile6':16000, 'mobile7':17000, 'mobile8':18000, 'mobile9':19000}\n",
    "print(min(item_prices, key=item_prices.get))\n",
    "print(min(item_prices.items(), key=lambda x: x[1]))"
   ]
  },
  {
   "cell_type": "code",
   "execution_count": 27,
   "id": "43eb653c",
   "metadata": {},
   "outputs": [
    {
     "name": "stdout",
     "output_type": "stream",
     "text": [
      "5\n"
     ]
    }
   ],
   "source": [
    "# find the maximum distance between two same elements\n",
    "l5 = [1, 2, 3, 2, 5, 1, 2, 4, 6, 2, 7, 8, 6]\n",
    "def maxDistance(arr, n): \n",
    "    mp = {} \n",
    "    maxDict = 0\n",
    "    for i in range(n): \n",
    "        if arr[i] not in mp.keys(): \n",
    "            mp[arr[i]] = i \n",
    "  \n",
    "        # Else update max distance \n",
    "        else: \n",
    "            maxDict = max(maxDict, i-mp[arr[i]]) \n",
    "  \n",
    "    return maxDict \n",
    "    \n",
    "n=len(input_list)\n",
    "\n",
    "print(maxDistance(l5,n))"
   ]
  },
  {
   "cell_type": "code",
   "execution_count": 28,
   "id": "8b6ead57",
   "metadata": {},
   "outputs": [
    {
     "name": "stdout",
     "output_type": "stream",
     "text": [
      "pasta\n"
     ]
    }
   ],
   "source": [
    "# print the winning food item as output\n",
    "votes = [\"pasta\",\"pasta\",\"pasta\",\"pasta\",\"pasta\",\"paratha\",\"paratha\",\"paratha\"]\n",
    "\n",
    "bb = dict(zip(list(votes),[list(votes).count(i) for i in list(votes)]))\n",
    "\n",
    "if max(bb.values())>len(votes)//2:\n",
    "    print(max(bb, key=bb.get))\n",
    "else:\n",
    "    print('NOTA')"
   ]
  },
  {
   "cell_type": "code",
   "execution_count": 29,
   "id": "d369eb66",
   "metadata": {},
   "outputs": [
    {
     "name": "stdout",
     "output_type": "stream",
     "text": [
      "('pasta', 5)\n"
     ]
    }
   ],
   "source": [
    "from collections import Counter\n",
    "x = Counter(votes)\n",
    "print(max(x.items(), key=lambda x: x[1]))"
   ]
  },
  {
   "cell_type": "code",
   "execution_count": 30,
   "id": "4e792db0",
   "metadata": {},
   "outputs": [
    {
     "name": "stdout",
     "output_type": "stream",
     "text": [
      "['Fruit', 'Spices', 'Vegetable_Cabbage', 'Vegetable_Cauliflower']\n",
      "[1, 2, 3, 4]\n"
     ]
    }
   ],
   "source": [
    "# Flatened dictionary\n",
    "input_dict = {'Fruit': 1, 'Vegetable': {'Cabbage': 2, 'Cauliflower': 3}, 'Spices': 4}\n",
    "\n",
    "def flatten_dict(dd, separator='_', prefix=''):\n",
    "    return { prefix + separator + k if prefix else k : v \n",
    "             for kk, vv in dd.items() \n",
    "             for k, v in flatten_dict(vv, separator, kk).items() \n",
    "             } if isinstance(dd, dict) else { prefix : dd }\n",
    "\n",
    "out1=list(flatten_dict(input_dict).keys())\n",
    "out2=list(flatten_dict(input_dict).values())\n",
    "out1.sort()\n",
    "out2.sort()\n",
    "print(out1)\n",
    "print(out2)"
   ]
  },
  {
   "cell_type": "code",
   "execution_count": 31,
   "id": "14777495",
   "metadata": {},
   "outputs": [
    {
     "name": "stdout",
     "output_type": "stream",
     "text": [
      "1.1875\n",
      "90\n",
      "1.1875\n",
      "duration 0.0\n"
     ]
    }
   ],
   "source": [
    "# Time management\n",
    "\n",
    "import time \n",
    "mylist=[i for i in range(100)] #fill up the list with some integer values, as many as you want\n",
    "k= 90 #fill in this line too\n",
    "start = time.process_time() \n",
    "print(start)\n",
    "for i in range(len(mylist)):\n",
    "    if mylist[i]==k:\n",
    "        print(i)\n",
    "finish = time.process_time() \n",
    "print(finish)\n",
    "print('duration',time.process_time() - start)\n"
   ]
  },
  {
   "cell_type": "code",
   "execution_count": 32,
   "id": "654a3b66",
   "metadata": {},
   "outputs": [
    {
     "name": "stdout",
     "output_type": "stream",
     "text": [
      "5\n"
     ]
    }
   ],
   "source": [
    "# The index of the first occurrence of the key in the provided list, if it is present, and -1 otherwise.\n",
    "data_list = [1, 2, 3, 4, 5, 6]\n",
    "key = 6\n",
    "\n",
    "if key in data_list:\n",
    "    print(data_list.index(key))\n",
    "else:\n",
    "    print('-1')"
   ]
  },
  {
   "cell_type": "code",
   "execution_count": 33,
   "id": "b1c29190",
   "metadata": {},
   "outputs": [
    {
     "name": "stdout",
     "output_type": "stream",
     "text": [
      "6.708204\n"
     ]
    }
   ],
   "source": [
    "# square root\n",
    "import math\n",
    "n = 45\n",
    "import math\n",
    "print(\"%.6f\" % math.sqrt(n))"
   ]
  },
  {
   "cell_type": "code",
   "execution_count": 34,
   "id": "5df1aeba",
   "metadata": {},
   "outputs": [
    {
     "name": "stdout",
     "output_type": "stream",
     "text": [
      "True\n"
     ]
    }
   ],
   "source": [
    "# True if the key is a part of that AP, False otherwise\n",
    "\n",
    "x = [9, 11, 13]\n",
    "key = 19\n",
    "\n",
    "a = x[0]\n",
    "d= x[1]-x[0]\n",
    "\n",
    "if (key-a)%d==0:\n",
    "    print('True')\n",
    "else:\n",
    "    print('False')"
   ]
  },
  {
   "cell_type": "code",
   "execution_count": 35,
   "id": "676109bc",
   "metadata": {},
   "outputs": [
    {
     "name": "stdout",
     "output_type": "stream",
     "text": [
      "['I', 'to', 'in', 'love', 'code', 'Python']\n"
     ]
    }
   ],
   "source": [
    "# Using the Built-in Sort Function\n",
    "\n",
    "l5 = ['I', 'love', 'to', 'code', 'in', 'Python']\n",
    "print(sorted(l5, key = len))\n"
   ]
  },
  {
   "cell_type": "code",
   "execution_count": 36,
   "id": "18e1ee33",
   "metadata": {},
   "outputs": [
    {
     "name": "stdout",
     "output_type": "stream",
     "text": [
      "[35, 10, 1, 21, 12, 13, 9]\n"
     ]
    }
   ],
   "source": [
    "# Sort a list of integers basis the remainder they leave when divided by 5 in an ascending order\n",
    "\n",
    "l6= [1, 9, 35, 12, 13, 21, 10]\n",
    "\n",
    "def func(x):\n",
    "     return x % 5\n",
    "    \n",
    "print(sorted(l6, key = func))    "
   ]
  },
  {
   "cell_type": "code",
   "execution_count": 37,
   "id": "59aa3e13",
   "metadata": {},
   "outputs": [
    {
     "name": "stdout",
     "output_type": "stream",
     "text": [
      "[1, 2, 3, 3, 4, 5, 5, 6, 7, 8, 9, 10, 11, 12, 13]\n"
     ]
    }
   ],
   "source": [
    "# Merge Sorted Lists\n",
    "\n",
    "l7 = [1, 3, 5, 7, 9, 10]\n",
    "l8 = [2, 3, 4, 5, 6, 8, 11, 12, 13]\n",
    "\n",
    "print(sorted(l7+l8))"
   ]
  },
  {
   "cell_type": "code",
   "execution_count": 38,
   "id": "201e75ca",
   "metadata": {},
   "outputs": [
    {
     "name": "stdout",
     "output_type": "stream",
     "text": [
      "5 10\n"
     ]
    }
   ],
   "source": [
    "# Two numbers from the list that add up to k\n",
    "data =[1, 3, 5, 6, 10] \n",
    "k = 15\n",
    "for i in range(0,len(data)):\n",
    "    for j in data[i+1:]:\n",
    "        if (data[i]+j) == k:\n",
    "            print(data[i],j)\n",
    "            \n",
    "            "
   ]
  },
  {
   "cell_type": "code",
   "execution_count": 39,
   "id": "7d9dcf3f",
   "metadata": {},
   "outputs": [
    {
     "name": "stdout",
     "output_type": "stream",
     "text": [
      "[0, 0, 0, 0, 1, 1, 1, 2, 2]\n"
     ]
    }
   ],
   "source": [
    "l9 = [0, 2, 0, 0, 1, 1, 2, 0, 1]\n",
    "print(sorted(l9))"
   ]
  },
  {
   "cell_type": "code",
   "execution_count": null,
   "id": "9e7fb50b",
   "metadata": {},
   "outputs": [],
   "source": []
  },
  {
   "cell_type": "code",
   "execution_count": null,
   "id": "e0436a41",
   "metadata": {},
   "outputs": [],
   "source": []
  },
  {
   "cell_type": "code",
   "execution_count": null,
   "id": "5377e80a",
   "metadata": {},
   "outputs": [],
   "source": []
  },
  {
   "cell_type": "code",
   "execution_count": null,
   "id": "a5c48e0a",
   "metadata": {},
   "outputs": [],
   "source": []
  }
 ],
 "metadata": {
  "kernelspec": {
   "display_name": "Python 3 (ipykernel)",
   "language": "python",
   "name": "python3"
  },
  "language_info": {
   "codemirror_mode": {
    "name": "ipython",
    "version": 3
   },
   "file_extension": ".py",
   "mimetype": "text/x-python",
   "name": "python",
   "nbconvert_exporter": "python",
   "pygments_lexer": "ipython3",
   "version": "3.11.3"
  }
 },
 "nbformat": 4,
 "nbformat_minor": 5
}
